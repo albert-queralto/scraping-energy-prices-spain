{
 "cells": [
  {
   "cell_type": "code",
   "execution_count": 2,
   "metadata": {},
   "outputs": [
    {
     "ename": "ModuleNotFoundError",
     "evalue": "No module named 'navigation'",
     "output_type": "error",
     "traceback": [
      "\u001b[0;31m---------------------------------------------------------------------------\u001b[0m",
      "\u001b[0;31mModuleNotFoundError\u001b[0m                       Traceback (most recent call last)",
      "Cell \u001b[0;32mIn [2], line 15\u001b[0m\n\u001b[1;32m     12\u001b[0m \u001b[39mfrom\u001b[39;00m \u001b[39mselenium\u001b[39;00m\u001b[39m.\u001b[39;00m\u001b[39mwebdriver\u001b[39;00m\u001b[39m.\u001b[39;00m\u001b[39mchrome\u001b[39;00m\u001b[39m.\u001b[39;00m\u001b[39moptions\u001b[39;00m \u001b[39mimport\u001b[39;00m Options\n\u001b[1;32m     14\u001b[0m \u001b[39m# Custom libraries\u001b[39;00m\n\u001b[0;32m---> 15\u001b[0m \u001b[39mfrom\u001b[39;00m \u001b[39mnavigation\u001b[39;00m \u001b[39mimport\u001b[39;00m \u001b[39m*\u001b[39m\n\u001b[1;32m     16\u001b[0m \u001b[39mfrom\u001b[39;00m \u001b[39mwebdriver_utils\u001b[39;00m \u001b[39mimport\u001b[39;00m \u001b[39m*\u001b[39m\n\u001b[1;32m     17\u001b[0m \u001b[39mfrom\u001b[39;00m \u001b[39msupport_functions\u001b[39;00m \u001b[39mimport\u001b[39;00m \u001b[39m*\u001b[39m\n",
      "\u001b[0;31mModuleNotFoundError\u001b[0m: No module named 'navigation'"
     ]
    }
   ],
   "source": [
    "import unittest\n",
    "import random\n",
    "import time\n",
    "import datetime\n",
    "import pandas as pd\n",
    "\n",
    "# Webscraping libraries\n",
    "import requests\n",
    "from selenium.webdriver import Chrome\n",
    "from selenium.webdriver.chrome.service import Service as ChromeService\n",
    "from webdriver_manager.chrome import ChromeDriverManager\n",
    "from selenium.webdriver.chrome.options import Options\n",
    "\n",
    "# Custom libraries\n",
    "from navigation import *\n",
    "from webdriver_utils import *\n",
    "from support_functions import *"
   ]
  },
  {
   "cell_type": "code",
   "execution_count": 1,
   "metadata": {},
   "outputs": [],
   "source": [
    "# Checking robots.txt file of our chosen website\n",
    "# Function get_robot_txt is constructed to check any url\n",
    "def get_robot_txt(url):\n",
    "    if url.endswith('/'):\n",
    "        path = url\n",
    "    else:\n",
    "        path = url + '/'\n",
    "    req = requests.get(path + \"robots.txt\",data =None)\n",
    "    return req.text\n",
    "\n",
    "# Objective website\n",
    "URL = \"https://www.esios.ree.es/es\"\n",
    "\n",
    "# Read robots.txt file\n",
    "# Print(get_robot_txt(URL))"
   ]
  },
  {
   "cell_type": "code",
   "execution_count": null,
   "metadata": {},
   "outputs": [],
   "source": [
    "\"\"\"\n",
    "Method that includes all the elements that the test each test requires for execution.\n",
    "Similar to the __init__ method.\n",
    "\"\"\"\n",
    "options = Options() # Define custom options for the WebDriver\n",
    "options.headless = False # Option to show the browser window (True) or not (False)\n",
    "options.add_argument(f'user-agent={random.choice(WebDriverOptions.user_agents)}') # Setup a custom User-Agent to prevent detection\n",
    "options.add_argument(\"content-type=application/x-www-form-urlencoded\") # Setup content-type\n",
    "\n",
    "    # Initiate the webdriver, installs it if not present and implements the previous options\n",
    "driver = Chrome(service=ChromeService(ChromeDriverManager().install()), options=options)\n",
    "driver.set_page_load_timeout(30)\n",
    "base_url = 'https://www.esios.ree.es/es' # Base URL that we want to scrape"
   ]
  },
  {
   "cell_type": "code",
   "execution_count": 19,
   "metadata": {},
   "outputs": [],
   "source": [
    "\"\"\"\n",
    "Method that includes all the elements that the test each test requires for execution.\n",
    "Similar to the __init__ method.\n",
    "\"\"\"\n",
    "options = Options() # Define custom options for the WebDriver\n",
    "options.headless = False # Option to show the browser window (True) or not (False)\n",
    "options.add_argument(f'user-agent={random.choice(WebDriverOptions.user_agents)}') # Setup a custom User-Agent to prevent detection\n",
    "options.add_argument(\"content-type=application/x-www-form-urlencoded\") # Setup content-type"
   ]
  },
  {
   "cell_type": "code",
   "execution_count": 20,
   "metadata": {},
   "outputs": [],
   "source": [
    "# Initiate the webdriver, installs it if not present and implements the previous options\n",
    "\n",
    "driver = Chrome(service=ChromeService(ChromeDriverManager().install()), options=options)\n",
    "driver.set_page_load_timeout(30)\n",
    "base_url = 'https://www.esios.ree.es/es' # Base URL that we want to scrape"
   ]
  },
  {
   "cell_type": "code",
   "execution_count": 22,
   "metadata": {},
   "outputs": [],
   "source": [
    "# Set days before the actual day to scrape and create a list of dates and transform them to tuples\n",
    "num_previous_days = 2\n",
    "date_range = [datetime.datetime.today() - datetime.timedelta(days=day) for day in range(num_previous_days)]\n",
    "date_range = [(date.year, date.month, date.day) for date in reversed(date_range)]"
   ]
  },
  {
   "cell_type": "code",
   "execution_count": 24,
   "metadata": {},
   "outputs": [
    {
     "name": "stdout",
     "output_type": "stream",
     "text": [
      "https://www.esios.ree.es/es\n"
     ]
    }
   ],
   "source": [
    "# Initiate the navigation elements for the first page and open the Chrome session\n",
    "page_navigator = NavigationMain(driver=driver, base_url=base_url)\n",
    "page_navigator.open_chrome_session()\n",
    "time.sleep(1)"
   ]
  },
  {
   "cell_type": "code",
   "execution_count": 25,
   "metadata": {},
   "outputs": [],
   "source": [
    "# Go to the *Generación y consumo* page\n",
    "page_navigator.navigate_generacion_consumo()\n",
    "time.sleep(1)"
   ]
  },
  {
   "cell_type": "code",
   "execution_count": 26,
   "metadata": {},
   "outputs": [],
   "source": [
    "# Initiate the method to perform the hour selection in the *Generación y consumo* page\n",
    "generacion_consumo_navigator =  NavigationGeneracionConsumo(driver=driver)"
   ]
  },
  {
   "cell_type": "code",
   "execution_count": 27,
   "metadata": {},
   "outputs": [
    {
     "ename": "FileNotFoundError",
     "evalue": "[Errno 2] No such file or directory: 'data'",
     "output_type": "error",
     "traceback": [
      "\u001b[0;31m---------------------------------------------------------------------------\u001b[0m",
      "\u001b[0;31mFileNotFoundError\u001b[0m                         Traceback (most recent call last)",
      "Cell \u001b[0;32mIn [27], line 2\u001b[0m\n\u001b[1;32m      1\u001b[0m \u001b[39m# Create list with all files in the save directory\u001b[39;00m\n\u001b[0;32m----> 2\u001b[0m files \u001b[39m=\u001b[39m os\u001b[39m.\u001b[39;49mlistdir(\u001b[39m'\u001b[39;49m\u001b[39mdata\u001b[39;49m\u001b[39m'\u001b[39;49m)        \n",
      "\u001b[0;31mFileNotFoundError\u001b[0m: [Errno 2] No such file or directory: 'data'"
     ]
    }
   ],
   "source": [
    "# Create list with all files in the save directory\n",
    "files = os.listdir('data')        "
   ]
  },
  {
   "cell_type": "code",
   "execution_count": 29,
   "metadata": {},
   "outputs": [
    {
     "ename": "IndentationError",
     "evalue": "expected an indented block (3468960271.py, line 3)",
     "output_type": "error",
     "traceback": [
      "\u001b[0;36m  Cell \u001b[0;32mIn [29], line 3\u001b[0;36m\u001b[0m\n\u001b[0;31m    date = f\"{day}-{month}-{year}\" # Create the date variable\u001b[0m\n\u001b[0m    ^\u001b[0m\n\u001b[0;31mIndentationError\u001b[0m\u001b[0;31m:\u001b[0m expected an indented block\n"
     ]
    }
   ],
   "source": [
    "# Navigates through the defined date range\n",
    "for year, month, day in date_range:\n",
    "date = f\"{day}-{month}-{year}\" # Create the date variable"
   ]
  },
  {
   "cell_type": "code",
   "execution_count": 30,
   "metadata": {},
   "outputs": [
    {
     "ename": "NameError",
     "evalue": "name 'files' is not defined",
     "output_type": "error",
     "traceback": [
      "\u001b[0;31m---------------------------------------------------------------------------\u001b[0m",
      "\u001b[0;31mNameError\u001b[0m                                 Traceback (most recent call last)",
      "Cell \u001b[0;32mIn [30], line 2\u001b[0m\n\u001b[1;32m      1\u001b[0m \u001b[39m# Check if day, month and year are in the file name and load the file\u001b[39;00m\n\u001b[0;32m----> 2\u001b[0m file \u001b[39m=\u001b[39m [file \u001b[39mfor\u001b[39;00m file \u001b[39min\u001b[39;00m files \u001b[39mif\u001b[39;00m date \u001b[39min\u001b[39;00m file]\n\u001b[1;32m      3\u001b[0m energy_prices \u001b[39m=\u001b[39m pd\u001b[39m.\u001b[39mread_csv(\u001b[39mf\u001b[39m\u001b[39m\"\u001b[39m\u001b[39mdata/\u001b[39m\u001b[39m{\u001b[39;00mfile[\u001b[39m0\u001b[39m]\u001b[39m}\u001b[39;00m\u001b[39m\"\u001b[39m, sep\u001b[39m=\u001b[39m\u001b[39m\"\u001b[39m\u001b[39m;\u001b[39m\u001b[39m\"\u001b[39m)\n",
      "\u001b[0;31mNameError\u001b[0m: name 'files' is not defined"
     ]
    }
   ],
   "source": [
    "# Check if day, month and year are in the file name and load the file\n",
    "file = [file for file in files if date in file]\n",
    "energy_prices = pd.read_csv(f\"data/{file[0]}\", sep=\";\")"
   ]
  },
  {
   "cell_type": "code",
   "execution_count": 31,
   "metadata": {},
   "outputs": [
    {
     "ename": "NameError",
     "evalue": "name 'year' is not defined",
     "output_type": "error",
     "traceback": [
      "\u001b[0;31m---------------------------------------------------------------------------\u001b[0m",
      "\u001b[0;31mNameError\u001b[0m                                 Traceback (most recent call last)",
      "Cell \u001b[0;32mIn [31], line 2\u001b[0m\n\u001b[1;32m      1\u001b[0m \u001b[39m# Initiate method to get the data from the *Generación y consumo* page\u001b[39;00m\n\u001b[0;32m----> 2\u001b[0m generacion_consumo_navigator\u001b[39m.\u001b[39mdate_navigator(year\u001b[39m=\u001b[39myear, month\u001b[39m=\u001b[39mmonth, day\u001b[39m=\u001b[39mday)\n\u001b[1;32m      3\u001b[0m time\u001b[39m.\u001b[39msleep(\u001b[39m5\u001b[39m)\n\u001b[1;32m      4\u001b[0m \u001b[39mprint\u001b[39m(driver\u001b[39m.\u001b[39mcurrent_url) \u001b[39m# For debugging\u001b[39;00m\n",
      "\u001b[0;31mNameError\u001b[0m: name 'year' is not defined"
     ]
    }
   ],
   "source": [
    "# Initiate method to get the data from the *Generación y consumo* page\n",
    "generacion_consumo_navigator.date_navigator(year=year, month=month, day=day)\n",
    "time.sleep(5)\n",
    "print(driver.current_url) # For debugging"
   ]
  },
  {
   "cell_type": "code",
   "execution_count": null,
   "metadata": {},
   "outputs": [],
   "source": [
    "renewable_data_iterator = WrapperFunctionsGeneracionConsumo(date=date, max_hour=2, generacion_consumo_nav=generacion_consumo_navigator, driver=self.driver)\n",
    "renewable_data_df = renewable_data_iterator.hour_iterator_generacion_libre_co2()\n",
    "            \n",
    "energy_prices = pd.merge(energy_prices, renewable_data_df, on=['date', 'hour'])"
   ]
  },
  {
   "cell_type": "code",
   "execution_count": null,
   "metadata": {},
   "outputs": [],
   "source": [
    "# Save the data to a CSV file for each day\n",
    "energy_prices.to_csv(f\"data/energy_prices_renewable_generation_{date}.csv\", index=False)"
   ]
  },
  {
   "cell_type": "code",
   "execution_count": null,
   "metadata": {},
   "outputs": [],
   "source": [
    "# Initiate the navigation elements for the first page and open the Chrome session\n",
    "page_navigator = NavigationMain(driver=self.driver, base_url=self.base_url)\n",
    "page_navigator.open_chrome_session()\n",
    "time.sleep(1)"
   ]
  },
  {
   "cell_type": "code",
   "execution_count": null,
   "metadata": {},
   "outputs": [],
   "source": [
    "# Go to the *Mercados y precios* page\n",
    "page_navigator.navigate_mercados_precios()\n",
    "time.sleep(1)"
   ]
  },
  {
   "cell_type": "code",
   "execution_count": null,
   "metadata": {},
   "outputs": [],
   "source": [
    "# Initiate the method to perform the hour selection in the *Mercados y precios* page\n",
    "mercado_precio_navigator =  NavigationMercadosPrecios(driver=self.driver)"
   ]
  },
  {
   "cell_type": "code",
   "execution_count": null,
   "metadata": {},
   "outputs": [],
   "source": [
    "# Navigates through the defined date range\n",
    "for year, month, day in self.date_range:\n",
    "date = f\"{day}-{month}-{year}\" # Create the date variable"
   ]
  },
  {
   "cell_type": "code",
   "execution_count": null,
   "metadata": {},
   "outputs": [],
   "source": [
    "# Initiate method to get the data from the *Mercados y precios* page\n",
    "mercado_precio_navigator.date_navigator(year=year, month=month, day=day)\n",
    "time.sleep(5)\n",
    "print(self.driver.current_url) # For debugging"
   ]
  },
  {
   "cell_type": "code",
   "execution_count": null,
   "metadata": {},
   "outputs": [],
   "source": [
    "market_prices_data_iterator = WrapperFunctionsMercadoPrecios(date=date, max_hour=24, mercado_precio_nav=mercado_precio_navigator, driver=self.driver)\n",
    "market_price = market_prices_data_iterator.hour_iterator_mercado_precios()"
   ]
  },
  {
   "cell_type": "code",
   "execution_count": null,
   "metadata": {},
   "outputs": [],
   "source": [
    "# Save the data to a CSV file for each day\n",
    "data_saver = FileUtils(filename=f'energy_prices_{date}.csv', dictionary=market_price)\n",
    "data_saver.save_data()"
   ]
  },
  {
   "cell_type": "code",
   "execution_count": 33,
   "metadata": {},
   "outputs": [
    {
     "ename": "IndentationError",
     "evalue": "unindent does not match any outer indentation level (<tokenize>, line 6)",
     "output_type": "error",
     "traceback": [
      "\u001b[0;36m  File \u001b[0;32m<tokenize>:6\u001b[0;36m\u001b[0m\n\u001b[0;31m    if __name__ == '__main__':\u001b[0m\n\u001b[0m    ^\u001b[0m\n\u001b[0;31mIndentationError\u001b[0m\u001b[0;31m:\u001b[0m unindent does not match any outer indentation level\n"
     ]
    }
   ],
   "source": [
    "def tearDown(self):\n",
    "        \"\"\"\n",
    "        Method that includes all the instructions used after the unittest is performed.\n",
    "        \"\"\"\n",
    "        self.driver.close() # We close the driver\n",
    "    if __name__ == '__main__':\n",
    "    unittest.main(warnings='ignore')"
   ]
  }
 ],
 "metadata": {
  "kernelspec": {
   "display_name": "Python 3.9.6 64-bit",
   "language": "python",
   "name": "python3"
  },
  "language_info": {
   "codemirror_mode": {
    "name": "ipython",
    "version": 3
   },
   "file_extension": ".py",
   "mimetype": "text/x-python",
   "name": "python",
   "nbconvert_exporter": "python",
   "pygments_lexer": "ipython3",
   "version": "3.9.6"
  },
  "orig_nbformat": 4,
  "vscode": {
   "interpreter": {
    "hash": "31f2aee4e71d21fbe5cf8b01ff0e069b9275f58929596ceb00d14d90e3e16cd6"
   }
  }
 },
 "nbformat": 4,
 "nbformat_minor": 2
}
