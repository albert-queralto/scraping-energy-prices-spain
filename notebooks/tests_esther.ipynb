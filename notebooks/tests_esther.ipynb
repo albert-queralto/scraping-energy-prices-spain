{
 "cells": [
  {
   "cell_type": "markdown",
   "metadata": {},
   "source": [
    "Fase prèvia d'avaluació inicial:"
   ]
  },
  {
   "cell_type": "code",
   "execution_count": 4,
   "metadata": {},
   "outputs": [],
   "source": [
    "import requests\n",
    "from bs4 import BeautifulSoup\n",
    "\n",
    "URL = \"https://tarifaluzhora.es\"\n",
    "page = requests.get(URL)\n",
    "\n",
    "soup = BeautifulSoup(page.content, \"html.parser\")"
   ]
  },
  {
   "cell_type": "code",
   "execution_count": 10,
   "metadata": {},
   "outputs": [
    {
     "data": {
      "text/plain": [
       "[\"\\n\\n  google.charts.load('current', {'packages':['corechart']});\\n  google.charts.setOnLoadCallback(drawChart);\\n  function drawChart() {\\n      var data = google.visualization.arrayToDataTable([\\n      ['Horas', 'Precio'],\\n      ['00h - 01h', 0.13275],['01h - 02h', 0.13086],['02h - 03h', 0.1288],['03h - 04h', 0.12602],['04h - 05h', 0.12512],['05h - 06h', 0.12458],['06h - 07h', 0.13047],['07h - 08h', 0.14325],['08h - 09h', 0.15601],['09h - 10h', 0.14763],['10h - 11h', 0.13155],['11h - 12h', 0.12195],['12h - 13h', 0.11804],['13h - 14h', 0.11361],['14h - 15h', 0.11801],['15h - 16h', 0.1205],['16h - 17h', 0.1212],['17h - 18h', 0.14462],['18h - 19h', 0.17478],['19h - 20h', 0.1791],['20h - 21h', 0.17171],['21h - 22h', 0.17221],['22h - 23h', 0.16622],['23h - 24h', 0.16101],\\n      ]);\\n      var options = {\\n      curveType: 'function',\\n      hAxis: { textPosition: 'none', title: 'Hora' },\\n      legend: 'none',\\n      colors: ['#0faf10'],\\n      pointSize: 7,\\n      dataOpacity: 0.3\\n      };\\n      var chart = new google.visualization.LineChart(document.getElementById('daytime_linechart'));\\n      chart.draw(data, options);\\n  }\\n\\n\"]"
      ]
     },
     "execution_count": 10,
     "metadata": {},
     "output_type": "execute_result"
    }
   ],
   "source": [
    "import re\n",
    "\n",
    "section = soup(text=re.compile('Horas'))\n",
    "section"
   ]
  },
  {
   "cell_type": "code",
   "execution_count": 18,
   "metadata": {},
   "outputs": [],
   "source": [
    "section_str = str(section)"
   ]
  },
  {
   "cell_type": "code",
   "execution_count": 47,
   "metadata": {},
   "outputs": [],
   "source": [
    "start = section_str.find(\"['00h - 01h\")\n",
    "end = section_str.find(\"var options\", start) - 20"
   ]
  },
  {
   "cell_type": "code",
   "execution_count": 48,
   "metadata": {},
   "outputs": [
    {
     "data": {
      "text/plain": [
       "780"
      ]
     },
     "execution_count": 48,
     "metadata": {},
     "output_type": "execute_result"
    }
   ],
   "source": [
    "end"
   ]
  },
  {
   "cell_type": "code",
   "execution_count": null,
   "metadata": {},
   "outputs": [],
   "source": [
    "# Cleanup."
   ]
  },
  {
   "cell_type": "code",
   "execution_count": 51,
   "metadata": {
    "scrolled": true
   },
   "outputs": [
    {
     "data": {
      "text/plain": [
       "\"['00h - 01h', 0.13275],['01h - 02h', 0.13086],['02h - 03h', 0.1288],['03h - 04h', 0.12602],['04h - 05h', 0.12512],['05h - 06h', 0.12458],['06h - 07h', 0.13047],['07h - 08h', 0.14325],['08h - 09h', 0.15601],['09h - 10h', 0.14763],['10h - 11h', 0.13155],['11h - 12h', 0.12195],['12h - 13h', 0.11804],['13h - 14h', 0.11361],['14h - 15h', 0.11801],['15h - 16h', 0.1205],['16h - 17h', 0.1212],['17h - 18h', 0.14462],['18h - 19h', 0.17478],['19h - 20h', 0.1791],['20h - 21h', 0.17171],['21h - 22h', 0.17221],['22h - 23h', 0.16622],['23h - 24h', 0.16101]\""
      ]
     },
     "execution_count": 51,
     "metadata": {},
     "output_type": "execute_result"
    }
   ],
   "source": [
    "prices_str = section_str[start:end]\n",
    "prices_str"
   ]
  },
  {
   "cell_type": "code",
   "execution_count": 64,
   "metadata": {},
   "outputs": [
    {
     "data": {
      "text/plain": [
       "\"00h - 01h', 0.13275],01h - 02h', 0.13086],02h - 03h', 0.1288],03h - 04h', 0.12602],04h - 05h', 0.12512],05h - 06h', 0.12458],06h - 07h', 0.13047],07h - 08h', 0.14325],08h - 09h', 0.15601],09h - 10h', 0.14763],10h - 11h', 0.13155],11h - 12h', 0.12195],12h - 13h', 0.11804],13h - 14h', 0.11361],14h - 15h', 0.11801],15h - 16h', 0.1205],16h - 17h', 0.1212],17h - 18h', 0.14462],18h - 19h', 0.17478],19h - 20h', 0.1791],20h - 21h', 0.17171],21h - 22h', 0.17221],22h - 23h', 0.16622],23h - 24h', 0.16101]\""
      ]
     },
     "execution_count": 64,
     "metadata": {},
     "output_type": "execute_result"
    }
   ],
   "source": [
    "prices_str2 = prices_str.replace(\"['\", \"\") \n",
    "prices_str2"
   ]
  },
  {
   "cell_type": "code",
   "execution_count": 71,
   "metadata": {},
   "outputs": [
    {
     "data": {
      "text/plain": [
       "'00h - 01h 0.13275]01h - 02h 0.13086]02h - 03h 0.1288]03h - 04h 0.12602]04h - 05h 0.12512]05h - 06h 0.12458]06h - 07h 0.13047]07h - 08h 0.14325]08h - 09h 0.15601]09h - 10h 0.14763]10h - 11h 0.13155]11h - 12h 0.12195]12h - 13h 0.11804]13h - 14h 0.11361]14h - 15h 0.11801]15h - 16h 0.1205]16h - 17h 0.1212]17h - 18h 0.14462]18h - 19h 0.17478]19h - 20h 0.1791]20h - 21h 0.17171]21h - 22h 0.17221]22h - 23h 0.16622]23h - 24h 0.16101]'"
      ]
     },
     "execution_count": 71,
     "metadata": {},
     "output_type": "execute_result"
    }
   ],
   "source": [
    "prices_str3 = prices_str2.replace(\"\\n\", \"\")\n",
    "prices_str3 = prices_str3.replace(\",\", \"\") \n",
    "prices_str3 = prices_str3.replace(\"'\", \"\") \n",
    "prices_str3"
   ]
  },
  {
   "cell_type": "code",
   "execution_count": 72,
   "metadata": {},
   "outputs": [
    {
     "data": {
      "text/plain": [
       "['00h - 01h 0.13275',\n",
       " '01h - 02h 0.13086',\n",
       " '02h - 03h 0.1288',\n",
       " '03h - 04h 0.12602',\n",
       " '04h - 05h 0.12512',\n",
       " '05h - 06h 0.12458',\n",
       " '06h - 07h 0.13047',\n",
       " '07h - 08h 0.14325',\n",
       " '08h - 09h 0.15601',\n",
       " '09h - 10h 0.14763',\n",
       " '10h - 11h 0.13155',\n",
       " '11h - 12h 0.12195',\n",
       " '12h - 13h 0.11804',\n",
       " '13h - 14h 0.11361',\n",
       " '14h - 15h 0.11801',\n",
       " '15h - 16h 0.1205',\n",
       " '16h - 17h 0.1212',\n",
       " '17h - 18h 0.14462',\n",
       " '18h - 19h 0.17478',\n",
       " '19h - 20h 0.1791',\n",
       " '20h - 21h 0.17171',\n",
       " '21h - 22h 0.17221',\n",
       " '22h - 23h 0.16622',\n",
       " '23h - 24h 0.16101',\n",
       " '']"
      ]
     },
     "execution_count": 72,
     "metadata": {},
     "output_type": "execute_result"
    }
   ],
   "source": [
    "prices_list = prices_str3.split(\"]\")\n",
    "prices_list"
   ]
  },
  {
   "cell_type": "code",
   "execution_count": 82,
   "metadata": {},
   "outputs": [
    {
     "ename": "AttributeError",
     "evalue": "'list' object has no attribute 'split'",
     "output_type": "error",
     "traceback": [
      "\u001b[0;31m---------------------------------------------------------------------------\u001b[0m",
      "\u001b[0;31mAttributeError\u001b[0m                            Traceback (most recent call last)",
      "\u001b[0;32m/var/folders/0l/lnvb55g12wz1gxmpshx9g20m0000gn/T/ipykernel_28867/3198208189.py\u001b[0m in \u001b[0;36m<module>\u001b[0;34m\u001b[0m\n\u001b[0;32m----> 1\u001b[0;31m \u001b[0mprices_list\u001b[0m\u001b[0;34m.\u001b[0m\u001b[0msplit\u001b[0m\u001b[0;34m(\u001b[0m\u001b[0;34m\"h 0\"\u001b[0m\u001b[0;34m)\u001b[0m\u001b[0;34m\u001b[0m\u001b[0;34m\u001b[0m\u001b[0m\n\u001b[0m",
      "\u001b[0;31mAttributeError\u001b[0m: 'list' object has no attribute 'split'"
     ]
    }
   ],
   "source": [
    "prices_list.split(\"h 0\")"
   ]
  },
  {
   "cell_type": "code",
   "execution_count": 83,
   "metadata": {},
   "outputs": [
    {
     "name": "stdout",
     "output_type": "stream",
     "text": [
      "['00h - 01', '.13275']\n",
      "['01h - 02', '.13086']\n",
      "['02h - 03', '.1288']\n",
      "['03h - 04', '.12602']\n",
      "['04h - 05', '.12512']\n",
      "['05h - 06', '.12458']\n",
      "['06h - 07', '.13047']\n",
      "['07h - 08', '.14325']\n",
      "['08h - 09', '.15601']\n",
      "['09h - 10', '.14763']\n",
      "['10h - 11', '.13155']\n",
      "['11h - 12', '.12195']\n",
      "['12h - 13', '.11804']\n",
      "['13h - 14', '.11361']\n",
      "['14h - 15', '.11801']\n",
      "['15h - 16', '.1205']\n",
      "['16h - 17', '.1212']\n",
      "['17h - 18', '.14462']\n",
      "['18h - 19', '.17478']\n",
      "['19h - 20', '.1791']\n",
      "['20h - 21', '.17171']\n",
      "['21h - 22', '.17221']\n",
      "['22h - 23', '.16622']\n",
      "['23h - 24', '.16101']\n",
      "['']\n"
     ]
    }
   ],
   "source": [
    "for i in prices_list:\n",
    "    print(i.split(\"h 0\"))"
   ]
  },
  {
   "cell_type": "code",
   "execution_count": 78,
   "metadata": {},
   "outputs": [],
   "source": [
    "from csv import writer"
   ]
  },
  {
   "cell_type": "code",
   "execution_count": 95,
   "metadata": {},
   "outputs": [
    {
     "name": "stdout",
     "output_type": "stream",
     "text": [
      "2022-10-29 17:06:00\n"
     ]
    }
   ],
   "source": [
    "from datetime import datetime\n",
    "now = datetime.now()\n",
    "dt_string = now.strftime(\"%Y-%m-%d %H:%M:%S\")\n",
    "print(dt_string)"
   ]
  },
  {
   "cell_type": "code",
   "execution_count": 100,
   "metadata": {},
   "outputs": [
    {
     "data": {
      "text/plain": [
       "'2022-10-29 17:06:00'"
      ]
     },
     "execution_count": 100,
     "metadata": {},
     "output_type": "execute_result"
    }
   ],
   "source": [
    "dt_string"
   ]
  },
  {
   "cell_type": "code",
   "execution_count": 104,
   "metadata": {},
   "outputs": [],
   "source": [
    "\n",
    "for i in prices_list:\n",
    "    with open(f'preu_hora_{dt_string}.csv', 'a') as f:\n",
    "        writer_object = writer(f)\n",
    "        writer_object.writerow(i.split(\"h 0\"))\n",
    "        f.close()"
   ]
  },
  {
   "cell_type": "code",
   "execution_count": null,
   "metadata": {},
   "outputs": [],
   "source": []
  },
  {
   "cell_type": "code",
   "execution_count": null,
   "metadata": {},
   "outputs": [],
   "source": []
  }
 ],
 "metadata": {
  "kernelspec": {
   "display_name": "Python 3 (ipykernel)",
   "language": "python",
   "name": "python3"
  },
  "language_info": {
   "codemirror_mode": {
    "name": "ipython",
    "version": 3
   },
   "file_extension": ".py",
   "mimetype": "text/x-python",
   "name": "python",
   "nbconvert_exporter": "python",
   "pygments_lexer": "ipython3",
   "version": "3.9.13"
  }
 },
 "nbformat": 4,
 "nbformat_minor": 4
}
