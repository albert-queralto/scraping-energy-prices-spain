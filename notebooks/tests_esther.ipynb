{
 "cells": [
  {
   "cell_type": "markdown",
   "metadata": {},
   "source": [
    "Extracció i neteja de dades de la següent pàgina web > https://tarifaluzhora.es:"
   ]
  },
  {
   "cell_type": "code",
   "execution_count": 3,
   "metadata": {},
   "outputs": [],
   "source": [
    "import requests\n",
    "from bs4 import BeautifulSoup\n",
    "\n",
    "URL = \"https://tarifaluzhora.es\"\n",
    "page = requests.get(URL)\n",
    "\n",
    "soup = BeautifulSoup(page.content, \"html.parser\")"
   ]
  },
  {
   "cell_type": "code",
   "execution_count": 10,
   "metadata": {},
   "outputs": [
    {
     "data": {
      "text/plain": [
       "[\"\\n\\n  google.charts.load('current', {'packages':['corechart']});\\n  google.charts.setOnLoadCallback(drawChart);\\n  function drawChart() {\\n      var data = google.visualization.arrayToDataTable([\\n      ['Horas', 'Precio'],\\n      ['00h - 01h', 0.13275],['01h - 02h', 0.13086],['02h - 03h', 0.1288],['03h - 04h', 0.12602],['04h - 05h', 0.12512],['05h - 06h', 0.12458],['06h - 07h', 0.13047],['07h - 08h', 0.14325],['08h - 09h', 0.15601],['09h - 10h', 0.14763],['10h - 11h', 0.13155],['11h - 12h', 0.12195],['12h - 13h', 0.11804],['13h - 14h', 0.11361],['14h - 15h', 0.11801],['15h - 16h', 0.1205],['16h - 17h', 0.1212],['17h - 18h', 0.14462],['18h - 19h', 0.17478],['19h - 20h', 0.1791],['20h - 21h', 0.17171],['21h - 22h', 0.17221],['22h - 23h', 0.16622],['23h - 24h', 0.16101],\\n      ]);\\n      var options = {\\n      curveType: 'function',\\n      hAxis: { textPosition: 'none', title: 'Hora' },\\n      legend: 'none',\\n      colors: ['#0faf10'],\\n      pointSize: 7,\\n      dataOpacity: 0.3\\n      };\\n      var chart = new google.visualization.LineChart(document.getElementById('daytime_linechart'));\\n      chart.draw(data, options);\\n  }\\n\\n\"]"
      ]
     },
     "execution_count": 10,
     "metadata": {},
     "output_type": "execute_result"
    }
   ],
   "source": [
    "import re\n",
    "\n",
    "section = soup(text=re.compile('Horas'))\n",
    "section"
   ]
  },
  {
   "cell_type": "code",
   "execution_count": 18,
   "metadata": {},
   "outputs": [],
   "source": [
    "section_str = str(section)"
   ]
  },
  {
   "cell_type": "code",
   "execution_count": 47,
   "metadata": {},
   "outputs": [],
   "source": [
    "start = section_str.find(\"['00h - 01h\")\n",
    "end = section_str.find(\"var options\", start) - 20"
   ]
  },
  {
   "cell_type": "code",
   "execution_count": 48,
   "metadata": {},
   "outputs": [
    {
     "data": {
      "text/plain": [
       "780"
      ]
     },
     "execution_count": 48,
     "metadata": {},
     "output_type": "execute_result"
    }
   ],
   "source": [
    "end"
   ]
  },
  {
   "cell_type": "code",
   "execution_count": null,
   "metadata": {},
   "outputs": [],
   "source": [
    "# Cleanup."
   ]
  },
  {
   "cell_type": "code",
   "execution_count": 51,
   "metadata": {
    "scrolled": true
   },
   "outputs": [
    {
     "data": {
      "text/plain": [
       "\"['00h - 01h', 0.13275],['01h - 02h', 0.13086],['02h - 03h', 0.1288],['03h - 04h', 0.12602],['04h - 05h', 0.12512],['05h - 06h', 0.12458],['06h - 07h', 0.13047],['07h - 08h', 0.14325],['08h - 09h', 0.15601],['09h - 10h', 0.14763],['10h - 11h', 0.13155],['11h - 12h', 0.12195],['12h - 13h', 0.11804],['13h - 14h', 0.11361],['14h - 15h', 0.11801],['15h - 16h', 0.1205],['16h - 17h', 0.1212],['17h - 18h', 0.14462],['18h - 19h', 0.17478],['19h - 20h', 0.1791],['20h - 21h', 0.17171],['21h - 22h', 0.17221],['22h - 23h', 0.16622],['23h - 24h', 0.16101]\""
      ]
     },
     "execution_count": 51,
     "metadata": {},
     "output_type": "execute_result"
    }
   ],
   "source": [
    "prices_str = section_str[start:end]\n",
    "prices_str"
   ]
  },
  {
   "cell_type": "code",
   "execution_count": 64,
   "metadata": {},
   "outputs": [
    {
     "data": {
      "text/plain": [
       "\"00h - 01h', 0.13275],01h - 02h', 0.13086],02h - 03h', 0.1288],03h - 04h', 0.12602],04h - 05h', 0.12512],05h - 06h', 0.12458],06h - 07h', 0.13047],07h - 08h', 0.14325],08h - 09h', 0.15601],09h - 10h', 0.14763],10h - 11h', 0.13155],11h - 12h', 0.12195],12h - 13h', 0.11804],13h - 14h', 0.11361],14h - 15h', 0.11801],15h - 16h', 0.1205],16h - 17h', 0.1212],17h - 18h', 0.14462],18h - 19h', 0.17478],19h - 20h', 0.1791],20h - 21h', 0.17171],21h - 22h', 0.17221],22h - 23h', 0.16622],23h - 24h', 0.16101]\""
      ]
     },
     "execution_count": 64,
     "metadata": {},
     "output_type": "execute_result"
    }
   ],
   "source": [
    "prices_str2 = prices_str.replace(\"['\", \"\") \n",
    "prices_str2"
   ]
  },
  {
   "cell_type": "code",
   "execution_count": 71,
   "metadata": {},
   "outputs": [
    {
     "data": {
      "text/plain": [
       "'00h - 01h 0.13275]01h - 02h 0.13086]02h - 03h 0.1288]03h - 04h 0.12602]04h - 05h 0.12512]05h - 06h 0.12458]06h - 07h 0.13047]07h - 08h 0.14325]08h - 09h 0.15601]09h - 10h 0.14763]10h - 11h 0.13155]11h - 12h 0.12195]12h - 13h 0.11804]13h - 14h 0.11361]14h - 15h 0.11801]15h - 16h 0.1205]16h - 17h 0.1212]17h - 18h 0.14462]18h - 19h 0.17478]19h - 20h 0.1791]20h - 21h 0.17171]21h - 22h 0.17221]22h - 23h 0.16622]23h - 24h 0.16101]'"
      ]
     },
     "execution_count": 71,
     "metadata": {},
     "output_type": "execute_result"
    }
   ],
   "source": [
    "prices_str3 = prices_str2.replace(\"\\n\", \"\")\n",
    "prices_str3 = prices_str3.replace(\",\", \"\") \n",
    "prices_str3 = prices_str3.replace(\"'\", \"\") \n",
    "prices_str3"
   ]
  },
  {
   "cell_type": "code",
   "execution_count": 72,
   "metadata": {},
   "outputs": [
    {
     "data": {
      "text/plain": [
       "['00h - 01h 0.13275',\n",
       " '01h - 02h 0.13086',\n",
       " '02h - 03h 0.1288',\n",
       " '03h - 04h 0.12602',\n",
       " '04h - 05h 0.12512',\n",
       " '05h - 06h 0.12458',\n",
       " '06h - 07h 0.13047',\n",
       " '07h - 08h 0.14325',\n",
       " '08h - 09h 0.15601',\n",
       " '09h - 10h 0.14763',\n",
       " '10h - 11h 0.13155',\n",
       " '11h - 12h 0.12195',\n",
       " '12h - 13h 0.11804',\n",
       " '13h - 14h 0.11361',\n",
       " '14h - 15h 0.11801',\n",
       " '15h - 16h 0.1205',\n",
       " '16h - 17h 0.1212',\n",
       " '17h - 18h 0.14462',\n",
       " '18h - 19h 0.17478',\n",
       " '19h - 20h 0.1791',\n",
       " '20h - 21h 0.17171',\n",
       " '21h - 22h 0.17221',\n",
       " '22h - 23h 0.16622',\n",
       " '23h - 24h 0.16101',\n",
       " '']"
      ]
     },
     "execution_count": 72,
     "metadata": {},
     "output_type": "execute_result"
    }
   ],
   "source": [
    "prices_list = prices_str3.split(\"]\")\n",
    "prices_list"
   ]
  },
  {
   "cell_type": "code",
   "execution_count": 82,
   "metadata": {},
   "outputs": [
    {
     "ename": "AttributeError",
     "evalue": "'list' object has no attribute 'split'",
     "output_type": "error",
     "traceback": [
      "\u001b[0;31m---------------------------------------------------------------------------\u001b[0m",
      "\u001b[0;31mAttributeError\u001b[0m                            Traceback (most recent call last)",
      "\u001b[0;32m/var/folders/0l/lnvb55g12wz1gxmpshx9g20m0000gn/T/ipykernel_28867/3198208189.py\u001b[0m in \u001b[0;36m<module>\u001b[0;34m\u001b[0m\n\u001b[0;32m----> 1\u001b[0;31m \u001b[0mprices_list\u001b[0m\u001b[0;34m.\u001b[0m\u001b[0msplit\u001b[0m\u001b[0;34m(\u001b[0m\u001b[0;34m\"h 0\"\u001b[0m\u001b[0;34m)\u001b[0m\u001b[0;34m\u001b[0m\u001b[0;34m\u001b[0m\u001b[0m\n\u001b[0m",
      "\u001b[0;31mAttributeError\u001b[0m: 'list' object has no attribute 'split'"
     ]
    }
   ],
   "source": [
    "prices_list.split(\"h 0\")"
   ]
  },
  {
   "cell_type": "code",
   "execution_count": 83,
   "metadata": {},
   "outputs": [
    {
     "name": "stdout",
     "output_type": "stream",
     "text": [
      "['00h - 01', '.13275']\n",
      "['01h - 02', '.13086']\n",
      "['02h - 03', '.1288']\n",
      "['03h - 04', '.12602']\n",
      "['04h - 05', '.12512']\n",
      "['05h - 06', '.12458']\n",
      "['06h - 07', '.13047']\n",
      "['07h - 08', '.14325']\n",
      "['08h - 09', '.15601']\n",
      "['09h - 10', '.14763']\n",
      "['10h - 11', '.13155']\n",
      "['11h - 12', '.12195']\n",
      "['12h - 13', '.11804']\n",
      "['13h - 14', '.11361']\n",
      "['14h - 15', '.11801']\n",
      "['15h - 16', '.1205']\n",
      "['16h - 17', '.1212']\n",
      "['17h - 18', '.14462']\n",
      "['18h - 19', '.17478']\n",
      "['19h - 20', '.1791']\n",
      "['20h - 21', '.17171']\n",
      "['21h - 22', '.17221']\n",
      "['22h - 23', '.16622']\n",
      "['23h - 24', '.16101']\n",
      "['']\n"
     ]
    }
   ],
   "source": [
    "for i in prices_list:\n",
    "    print(i.split(\"h 0\"))"
   ]
  },
  {
   "cell_type": "code",
   "execution_count": 78,
   "metadata": {},
   "outputs": [],
   "source": [
    "from csv import writer"
   ]
  },
  {
   "cell_type": "code",
   "execution_count": 95,
   "metadata": {},
   "outputs": [
    {
     "name": "stdout",
     "output_type": "stream",
     "text": [
      "2022-10-29 17:06:00\n"
     ]
    }
   ],
   "source": [
    "from datetime import datetime\n",
    "now = datetime.now()\n",
    "dt_string = now.strftime(\"%Y-%m-%d %H:%M:%S\")\n",
    "print(dt_string)"
   ]
  },
  {
   "cell_type": "code",
   "execution_count": 100,
   "metadata": {},
   "outputs": [
    {
     "data": {
      "text/plain": [
       "'2022-10-29 17:06:00'"
      ]
     },
     "execution_count": 100,
     "metadata": {},
     "output_type": "execute_result"
    }
   ],
   "source": [
    "dt_string"
   ]
  },
  {
   "cell_type": "code",
   "execution_count": 104,
   "metadata": {},
   "outputs": [],
   "source": [
    "\n",
    "for i in prices_list:\n",
    "    with open(f'preu_hora_{dt_string}.csv', 'a') as f:\n",
    "        writer_object = writer(f)\n",
    "        writer_object.writerow(i.split(\"h 0\"))\n",
    "        f.close()"
   ]
  },
  {
   "cell_type": "markdown",
   "metadata": {},
   "source": [
    "Extracció i neteja de les dades de la següent pàgina web > https://www.esios.ree.es/es/mercados-y-precios:"
   ]
  },
  {
   "cell_type": "code",
   "execution_count": 2,
   "metadata": {},
   "outputs": [
    {
     "name": "stdout",
     "output_type": "stream",
     "text": [
      "zsh:1: /usr/local/bin/pip3: bad interpreter: /System/Library/Frameworks/Python.framework/Versions/2.7/Resources/Python.app/Contents/MacOS/Python: no such file or directory\n",
      "Defaulting to user installation because normal site-packages is not writeable\n",
      "Requirement already satisfied: BeautifulSoup4 in /Users/esthermanzano/Library/Python/3.9/lib/python/site-packages (4.11.1)\n",
      "Requirement already satisfied: soupsieve>1.2 in /Users/esthermanzano/Library/Python/3.9/lib/python/site-packages (from BeautifulSoup4) (2.3.2.post1)\n"
     ]
    }
   ],
   "source": [
    "!pip3 install BeautifulSoup4"
   ]
  },
  {
   "cell_type": "code",
   "execution_count": 6,
   "metadata": {},
   "outputs": [],
   "source": [
    "import requests\n",
    "from bs4 import BeautifulSoup\n",
    "\n",
    "URL = \"https://www.esios.ree.es/es/mercados-y-precios\"\n",
    "page = requests.get(URL)\n",
    "\n",
    "soup = BeautifulSoup(page.content, \"html.parser\")"
   ]
  },
  {
   "cell_type": "code",
   "execution_count": 7,
   "metadata": {},
   "outputs": [
    {
     "data": {
      "text/plain": [
       "<Response [200]>"
      ]
     },
     "execution_count": 7,
     "metadata": {},
     "output_type": "execute_result"
    }
   ],
   "source": [
    "page"
   ]
  },
  {
   "cell_type": "code",
   "execution_count": 8,
   "metadata": {},
   "outputs": [
    {
     "data": {
      "text/plain": [
       "<!DOCTYPE html>\n",
       "<!--[if lt IE 9 ]><html lang=\"es\" class=\"ie-old ie\"><![endif]--><!--[if IE 9 ]><html lang=\"es\" class=\"ie-9 ie\"><![endif]--><!--[if IE 10 ]><html lang=\"es\" class=\"ie-10 ie\"><![endif]--><!--[if IE 11 ]><html lang=\"es\" class=\"ie-11 ie\"><![endif]--><!--[if gt IE 9]><!--><html lang=\"es\"><!--<![endif]--><head><title>Navegador no compatible | ESIOS electricidad · datos · transparencia</title><meta content=\"width=device-width,initial-scale=1\" name=\"viewport\"/><link href=\"/apple-touch-icon-57x57.png\" rel=\"apple-touch-icon\" sizes=\"57x57\"/><link href=\"/apple-touch-icon-60x60.png\" rel=\"apple-touch-icon\" sizes=\"60x60\"/><link href=\"/apple-touch-icon-72x72.png\" rel=\"apple-touch-icon\" sizes=\"72x72\"/><link href=\"/apple-touch-icon-76x76.png\" rel=\"apple-touch-icon\" sizes=\"76x76\"/><link href=\"/apple-touch-icon-114x114.png\" rel=\"apple-touch-icon\" sizes=\"114x114\"/><link href=\"/apple-touch-icon-120x120.png\" rel=\"apple-touch-icon\" sizes=\"120x120\"/><link href=\"/apple-touch-icon-144x144.png\" rel=\"apple-touch-icon\" sizes=\"144x144\"/><link href=\"/apple-touch-icon-152x152.png\" rel=\"apple-touch-icon\" sizes=\"152x152\"/><link href=\"/apple-touch-icon-180x180.png\" rel=\"apple-touch-icon\" sizes=\"180x180\"/><link href=\"/favicon-32x32.png\" rel=\"icon\" sizes=\"32x32\" type=\"image/png\"/><link href=\"/android-chrome-192x192.png\" rel=\"icon\" sizes=\"192x192\" type=\"image/png\"/><link href=\"/favicon-96x96.png\" rel=\"icon\" sizes=\"96x96\" type=\"image/png\"/><link href=\"/favicon-16x16.png\" rel=\"icon\" sizes=\"16x16\" type=\"image/png\"/><link href=\"/manifest.json\" rel=\"manifest\"/><meta content=\"#ffffff\" name=\"msapplication-TileColor\"/><meta content=\"/mstile-144x144.png\" name=\"msapplication-TileImage\"/><meta content=\"#ffffff\" name=\"theme-color\"/><script src=\"//use.typekit.net/nid1ymo.js\"></script><script>try{Typekit.load();}catch(e){}</script><link href=\"//fonts.googleapis.com/css?family=Cousine:400,700\" media=\"all\" rel=\"stylesheet\"/><link href=\"/assets/error-4a6851c798bad7571afb7db4f961a89e.css\" media=\"all\" rel=\"stylesheet\"/><script>(function(b,o,i,l,e,r){b.GoogleAnalyticsObject=l;b[l]||(b[l]=\n",
       "function(){(b[l].q=b[l].q||[]).push(arguments)});b[l].l=+new Date;\n",
       "e=o.createElement(i);r=o.getElementsByTagName(i)[0];\n",
       "e.src='https://www.google-analytics.com/analytics.js';\n",
       "r.parentNode.insertBefore(e,r)}(window,document,'script','ga'));\n",
       "ga('create',\"UA-67185565-1\",'auto');ga('send','pageview');</script><meta content=\"authenticity_token\" name=\"csrf-param\"/>\n",
       "<meta content=\"5FDMZIOAaxzhxXBZiNpV5RTPW5Fk0FSz4chuL9g8DdQ=\" name=\"csrf-token\"/></head><body><div class=\"mod-error\"><h1>Navegador no compatible</h1><p>El navegador que está utilizando no es compatible con las últimas tecnologías web (HTML5 y CSS3) necesarias para el funcionamiento correcto de este sitio web. Para conseguir una plena compatibilidad le recomendamos estos otros navegadores: Chrome, Firefox, Safari e Internet Explorer (en sus dos últimas versiones y con la vista de compatibilidad desactivada).</p><p>Para más información por favor contacte con nosotros a través de <a href=\"mailto:soportesios@ree.es?subject=Consulta desde la Web Publica\">soportesios@ree.es</a></p></div></body></html>"
      ]
     },
     "execution_count": 8,
     "metadata": {},
     "output_type": "execute_result"
    }
   ],
   "source": [
    "soup"
   ]
  },
  {
   "cell_type": "code",
   "execution_count": 29,
   "metadata": {
    "scrolled": false
   },
   "outputs": [
    {
     "name": "stderr",
     "output_type": "stream",
     "text": [
      "/var/folders/0l/lnvb55g12wz1gxmpshx9g20m0000gn/T/ipykernel_46818/4161664152.py:5: DeprecationWarning: executable_path has been deprecated, please pass in a Service object\n",
      "  driver = webdriver.Chrome(ChromeDriverManager().install())\n"
     ]
    },
    {
     "name": "stdout",
     "output_type": "stream",
     "text": [
      "<html class=\"wf-proximanova-n7-active wf-proximanova-n4-active wf-proximanova-n6-active wf-proximanova-n8-active wf-proximanova-n3-active wf-active\" lang=\"es\">\n",
      " <!--<![endif]-->\n",
      " <head>\n",
      "  <meta charset=\"utf-8\"/>\n",
      "  <meta content=\"ie=edge\" http-equiv=\"x-ua-compatible\"/>\n",
      "  <title>\n",
      "   Mercados y precios | ESIOS electricidad · datos · transparencia\n",
      "  </title>\n",
      "  <meta content=\"width=device-width, initial-scale=1\" name=\"viewport\"/>\n",
      "  <link href=\"/apple-touch-icon-57x57.png\" rel=\"apple-touch-icon\" sizes=\"57x57\"/>\n",
      "  <link href=\"/apple-touch-icon-60x60.png\" rel=\"apple-touch-icon\" sizes=\"60x60\"/>\n",
      "  <link href=\"/apple-touch-icon-72x72.png\" rel=\"apple-touch-icon\" sizes=\"72x72\"/>\n",
      "  <link href=\"/apple-touch-icon-76x76.png\" rel=\"apple-touch-icon\" sizes=\"76x76\"/>\n",
      "  <link href=\"/apple-touch-icon-114x114.png\" rel=\"apple-touch-icon\" sizes=\"114x114\"/>\n",
      "  <link href=\"/apple-touch-icon-120x120.png\" rel=\"apple-touch-icon\" sizes=\"120x120\"/>\n",
      "  <link href=\"/apple-touch-icon-144x144.png\" rel=\"apple-touch-icon\" sizes=\"144x144\"/>\n",
      "  <link href=\"/apple-touch-icon-152x152.png\" rel=\"apple-touch-icon\" sizes=\"152x152\"/>\n",
      "  <link href=\"/apple-touch-icon-180x180.png\" rel=\"apple-touch-icon\" sizes=\"180x180\"/>\n",
      "  <link href=\"/favicon-32x32.png\" rel=\"icon\" sizes=\"32x32\" type=\"image/png\"/>\n",
      "  <link href=\"/android-chrome-192x192.png\" rel=\"icon\" sizes=\"192x192\" type=\"image/png\"/>\n",
      "  <link href=\"/favicon-96x96.png\" rel=\"icon\" sizes=\"96x96\" type=\"image/png\"/>\n",
      "  <link href=\"/favicon-16x16.png\" rel=\"icon\" sizes=\"16x16\" type=\"image/png\"/>\n",
      "  <link href=\"/manifest.json\" rel=\"manifest\"/>\n",
      "  <meta content=\"#ffffff\" name=\"msapplication-TileColor\"/>\n",
      "  <meta content=\"/mstile-144x144.png\" name=\"msapplication-TileImage\"/>\n",
      "  <meta content=\"#ffffff\" name=\"theme-color\"/>\n",
      "  <script src=\"https://www.google-analytics.com/analytics.js\">\n",
      "  </script>\n",
      "  <script src=\"//use.typekit.net/nid1ymo.js\">\n",
      "  </script>\n",
      "  <style type=\"text/css\">\n",
      "   .tk-proxima-nova{font-family:\"proxima-nova\",sans-serif;}\n",
      "  </style>\n",
      "  <style type=\"text/css\">\n",
      "   @font-face{font-family:tk-proxima-nova-n7;src:url(https://use.typekit.net/af/4ea7ba/0000000000000000000158cf/25/l?primer=7cdcb44be4a7db8877ffa5c0007b8dd865b3bbc383831fe2ea177f62257a9191&fvd=n7&v=3) format(\"woff2\"),url(https://use.typekit.net/af/4ea7ba/0000000000000000000158cf/25/d?primer=7cdcb44be4a7db8877ffa5c0007b8dd865b3bbc383831fe2ea177f62257a9191&fvd=n7&v=3) format(\"woff\"),url(https://use.typekit.net/af/4ea7ba/0000000000000000000158cf/25/a?primer=7cdcb44be4a7db8877ffa5c0007b8dd865b3bbc383831fe2ea177f62257a9191&fvd=n7&v=3) format(\"opentype\");font-weight:700;font-style:normal;font-stretch:normal;font-display:auto;}@font-face{font-family:tk-proxima-nova-n8;src:url(https://use.typekit.net/af/9b7248/0000000000000000000158d1/25/l?primer=7cdcb44be4a7db8877ffa5c0007b8dd865b3bbc383831fe2ea177f62257a9191&fvd=n8&v=3) format(\"woff2\"),url(https://use.typekit.net/af/9b7248/0000000000000000000158d1/25/d?primer=7cdcb44be4a7db8877ffa5c0007b8dd865b3bbc383831fe2ea177f62257a9191&fvd=n8&v=3) format(\"woff\"),url(https://use.typekit.net/af/9b7248/0000000000000000000158d1/25/a?primer=7cdcb44be4a7db8877ffa5c0007b8dd865b3bbc383831fe2ea177f62257a9191&fvd=n8&v=3) format(\"opentype\");font-weight:800;font-style:normal;font-stretch:normal;font-display:auto;}@font-face{font-family:tk-proxima-nova-n6;src:url(https://use.typekit.net/af/b5cbbb/0000000000000000000158d5/25/l?primer=7cdcb44be4a7db8877ffa5c0007b8dd865b3bbc383831fe2ea177f62257a9191&fvd=n6&v=3) format(\"woff2\"),url(https://use.typekit.net/af/b5cbbb/0000000000000000000158d5/25/d?primer=7cdcb44be4a7db8877ffa5c0007b8dd865b3bbc383831fe2ea177f62257a9191&fvd=n6&v=3) format(\"woff\"),url(https://use.typekit.net/af/b5cbbb/0000000000000000000158d5/25/a?primer=7cdcb44be4a7db8877ffa5c0007b8dd865b3bbc383831fe2ea177f62257a9191&fvd=n6&v=3) format(\"opentype\");font-weight:600;font-style:normal;font-stretch:normal;font-display:auto;}@font-face{font-family:tk-proxima-nova-n4;src:url(https://use.typekit.net/af/a83373/0000000000000000000158d7/25/l?primer=7cdcb44be4a7db8877ffa5c0007b8dd865b3bbc383831fe2ea177f62257a9191&fvd=n4&v=3) format(\"woff2\"),url(https://use.typekit.net/af/a83373/0000000000000000000158d7/25/d?primer=7cdcb44be4a7db8877ffa5c0007b8dd865b3bbc383831fe2ea177f62257a9191&fvd=n4&v=3) format(\"woff\"),url(https://use.typekit.net/af/a83373/0000000000000000000158d7/25/a?primer=7cdcb44be4a7db8877ffa5c0007b8dd865b3bbc383831fe2ea177f62257a9191&fvd=n4&v=3) format(\"opentype\");font-weight:400;font-style:normal;font-stretch:normal;font-display:auto;}@font-face{font-family:tk-proxima-nova-n3;src:url(https://use.typekit.net/af/4f3666/0000000000000000000158d9/25/l?primer=7cdcb44be4a7db8877ffa5c0007b8dd865b3bbc383831fe2ea177f62257a9191&fvd=n3&v=3) format(\"woff2\"),url(https://use.typekit.net/af/4f3666/0000000000000000000158d9/25/d?primer=7cdcb44be4a7db8877ffa5c0007b8dd865b3bbc383831fe2ea177f62257a9191&fvd=n3&v=3) format(\"woff\"),url(https://use.typekit.net/af/4f3666/0000000000000000000158d9/25/a?primer=7cdcb44be4a7db8877ffa5c0007b8dd865b3bbc383831fe2ea177f62257a9191&fvd=n3&v=3) format(\"opentype\");font-weight:300;font-style:normal;font-stretch:normal;font-display:auto;}\n",
      "  </style>\n",
      "  <script>\n",
      "   try{Typekit.load({async:true});}catch(e){}\n",
      "  </script>\n",
      "  <link href=\"//fonts.googleapis.com/css?family=Cousine:400,700\" media=\"all\" rel=\"stylesheet\"/>\n",
      "  <link href=\"/assets/application-c90ac6687b6b307e2eabe2e3806f62bd.css\" media=\"all\" rel=\"stylesheet\"/>\n",
      "  <script>\n",
      "   (function(b,o,i,l,e,r){b.GoogleAnalyticsObject=l;b[l]||(b[l]=\n",
      "function(){(b[l].q=b[l].q||[]).push(arguments)});b[l].l=+new Date;\n",
      "e=o.createElement(i);r=o.getElementsByTagName(i)[0];\n",
      "e.src='https://www.google-analytics.com/analytics.js';\n",
      "r.parentNode.insertBefore(e,r)}(window,document,'script','ga'));\n",
      "ga('create',\"UA-67185565-1\",'auto');ga('send','pageview');\n",
      "  </script>\n",
      "  <meta content=\"authenticity_token\" name=\"csrf-param\"/>\n",
      "  <meta content=\"qtiHzjtLCv+ySTOZvdObJJsZWBn5p5W5CV6KLEkjVnk=\" name=\"csrf-token\"/>\n",
      "  <style type=\"text/css\">\n",
      "   @font-face{font-family:proxima-nova;src:url(https://use.typekit.net/af/4ea7ba/0000000000000000000158cf/25/l?primer=7cdcb44be4a7db8877ffa5c0007b8dd865b3bbc383831fe2ea177f62257a9191&fvd=n7&v=3) format(\"woff2\"),url(https://use.typekit.net/af/4ea7ba/0000000000000000000158cf/25/d?primer=7cdcb44be4a7db8877ffa5c0007b8dd865b3bbc383831fe2ea177f62257a9191&fvd=n7&v=3) format(\"woff\"),url(https://use.typekit.net/af/4ea7ba/0000000000000000000158cf/25/a?primer=7cdcb44be4a7db8877ffa5c0007b8dd865b3bbc383831fe2ea177f62257a9191&fvd=n7&v=3) format(\"opentype\");font-weight:700;font-style:normal;font-stretch:normal;font-display:auto;}@font-face{font-family:proxima-nova;src:url(https://use.typekit.net/af/9b7248/0000000000000000000158d1/25/l?primer=7cdcb44be4a7db8877ffa5c0007b8dd865b3bbc383831fe2ea177f62257a9191&fvd=n8&v=3) format(\"woff2\"),url(https://use.typekit.net/af/9b7248/0000000000000000000158d1/25/d?primer=7cdcb44be4a7db8877ffa5c0007b8dd865b3bbc383831fe2ea177f62257a9191&fvd=n8&v=3) format(\"woff\"),url(https://use.typekit.net/af/9b7248/0000000000000000000158d1/25/a?primer=7cdcb44be4a7db8877ffa5c0007b8dd865b3bbc383831fe2ea177f62257a9191&fvd=n8&v=3) format(\"opentype\");font-weight:800;font-style:normal;font-stretch:normal;font-display:auto;}@font-face{font-family:proxima-nova;src:url(https://use.typekit.net/af/b5cbbb/0000000000000000000158d5/25/l?primer=7cdcb44be4a7db8877ffa5c0007b8dd865b3bbc383831fe2ea177f62257a9191&fvd=n6&v=3) format(\"woff2\"),url(https://use.typekit.net/af/b5cbbb/0000000000000000000158d5/25/d?primer=7cdcb44be4a7db8877ffa5c0007b8dd865b3bbc383831fe2ea177f62257a9191&fvd=n6&v=3) format(\"woff\"),url(https://use.typekit.net/af/b5cbbb/0000000000000000000158d5/25/a?primer=7cdcb44be4a7db8877ffa5c0007b8dd865b3bbc383831fe2ea177f62257a9191&fvd=n6&v=3) format(\"opentype\");font-weight:600;font-style:normal;font-stretch:normal;font-display:auto;}@font-face{font-family:proxima-nova;src:url(https://use.typekit.net/af/a83373/0000000000000000000158d7/25/l?primer=7cdcb44be4a7db8877ffa5c0007b8dd865b3bbc383831fe2ea177f62257a9191&fvd=n4&v=3) format(\"woff2\"),url(https://use.typekit.net/af/a83373/0000000000000000000158d7/25/d?primer=7cdcb44be4a7db8877ffa5c0007b8dd865b3bbc383831fe2ea177f62257a9191&fvd=n4&v=3) format(\"woff\"),url(https://use.typekit.net/af/a83373/0000000000000000000158d7/25/a?primer=7cdcb44be4a7db8877ffa5c0007b8dd865b3bbc383831fe2ea177f62257a9191&fvd=n4&v=3) format(\"opentype\");font-weight:400;font-style:normal;font-stretch:normal;font-display:auto;}@font-face{font-family:proxima-nova;src:url(https://use.typekit.net/af/4f3666/0000000000000000000158d9/25/l?primer=7cdcb44be4a7db8877ffa5c0007b8dd865b3bbc383831fe2ea177f62257a9191&fvd=n3&v=3) format(\"woff2\"),url(https://use.typekit.net/af/4f3666/0000000000000000000158d9/25/d?primer=7cdcb44be4a7db8877ffa5c0007b8dd865b3bbc383831fe2ea177f62257a9191&fvd=n3&v=3) format(\"woff\"),url(https://use.typekit.net/af/4f3666/0000000000000000000158d9/25/a?primer=7cdcb44be4a7db8877ffa5c0007b8dd865b3bbc383831fe2ea177f62257a9191&fvd=n3&v=3) format(\"opentype\");font-weight:300;font-style:normal;font-stretch:normal;font-display:auto;}\n",
      "  </style>\n",
      "  <script async=\"\" charset=\"utf-8\" data-requirecontext=\"_\" data-requiremodule=\"application-aa0e240e833ba4b94b6395a71fd73f8a\" src=\"/assets/application-aa0e240e833ba4b94b6395a71fd73f8a.js\" type=\"text/javascript\">\n",
      "  </script>\n",
      "  <style type=\"text/css\">\n",
      "  </style>\n",
      " </head>\n",
      " <body class=\"is-univers-page is-myp-page is-chrome is-chrome-107\">\n",
      "  <header class=\"layout-header\">\n",
      "   <div class=\"layout-header-top\">\n",
      "    <div class=\"wrap\">\n",
      "     <div class=\"row\">\n",
      "      <div class=\"grid-xs-24 grid-sm-8\">\n",
      "      </div>\n",
      "      <div class=\"grid-xs-24 grid-sm-16 is-xs-hidden\">\n",
      "       <div class=\"mod-topbar\">\n",
      "        <a href=\"/es/acerca-de-esios\">\n",
      "         Acerca de e·sios\n",
      "        </a>\n",
      "        | Buscador\n",
      "        <form accept-charset=\"UTF-8\" action=\"/es/resultados\" method=\"get\">\n",
      "         <div style=\"display:none\">\n",
      "          <input name=\"utf8\" type=\"hidden\" value=\"✓\"/>\n",
      "         </div>\n",
      "         <input class=\"search-input icon-search\" id=\"query\" name=\"query\" type=\"search\"/>\n",
      "        </form>\n",
      "        <ul class=\"top-nav\">\n",
      "         <li class=\"icon-user sub-menu-switcher\">\n",
      "          <ul class=\"mod-sub-menu mod-main-navigation-submenu is-hidden\">\n",
      "           <li>\n",
      "            <a href=\"/es/mi-esios\">\n",
      "             Mi e·sios\n",
      "            </a>\n",
      "           </li>\n",
      "           <li>\n",
      "            <a class=\"is-hidden\" href=\"#logout\" id=\"logoutBtn\">\n",
      "             Cerrar sesión\n",
      "            </a>\n",
      "           </li>\n",
      "          </ul>\n",
      "         </li>\n",
      "         <li class=\"icon-help sub-menu-switcher\">\n",
      "          <ul class=\"mod-sub-menu mod-main-navigation-submenu is-hidden\">\n",
      "           <li>\n",
      "            <a href=\"/es/ayuda\">\n",
      "             Ayuda\n",
      "            </a>\n",
      "           </li>\n",
      "           <li>\n",
      "            <a href=\"/es/preguntas-frecuentes\">\n",
      "             Faq\n",
      "            </a>\n",
      "           </li>\n",
      "           <li>\n",
      "            <a href=\"/es/glosario\">\n",
      "             Glosario\n",
      "            </a>\n",
      "           </li>\n",
      "          </ul>\n",
      "         </li>\n",
      "         <li class=\"icon-language sub-menu-switcher\">\n",
      "          <ul class=\"mod-sub-menu mod-main-navigation-submenu is-align-right is-hidden\">\n",
      "           <li>\n",
      "            <a href=\"/en/market-and-prices\">\n",
      "             English\n",
      "            </a>\n",
      "           </li>\n",
      "           <li>\n",
      "            <a href=\"/es/mercados-y-precios\">\n",
      "             Español\n",
      "            </a>\n",
      "           </li>\n",
      "          </ul>\n",
      "         </li>\n",
      "        </ul>\n",
      "       </div>\n",
      "      </div>\n",
      "     </div>\n",
      "    </div>\n",
      "   </div>\n",
      "   <div class=\"layout-header-nav\">\n",
      "    <button class=\"btn-mobile-menu icon-menu is-hidden\" id=\"menu-mobile-switch\">\n",
      "    </button>\n",
      "    <div class=\"wrap\">\n",
      "     <div class=\"row\">\n",
      "      <div class=\"grid-sm-7 grid-xs-20\">\n",
      "       <a class=\"brand\" href=\"/?locale=es\">\n",
      "        <img alt=\"Esios\" height=\"80\" src=\"/assets/eSIOS-3bd95eec2469a99aaa2858c9d5b670c4.svg\" width=\"300\"/>\n",
      "       </a>\n",
      "      </div>\n",
      "      <div class=\"grid-sm-17 grid-xs-24 is-xs-hidden\">\n",
      "       <nav class=\"mod-navbar\">\n",
      "        <ul>\n",
      "         <li class=\"is-hidden-in-header\">\n",
      "          <a href=\"/?locale=es\">\n",
      "           Inicio\n",
      "          </a>\n",
      "         </li>\n",
      "         <li>\n",
      "          <a class=\"\" href=\"/es/generacion-y-consumo\">\n",
      "           Generación y consumo\n",
      "          </a>\n",
      "         </li>\n",
      "         <li>\n",
      "          <a class=\"is-current\" href=\"/es/mercados-y-precios\">\n",
      "           Mercados y precios\n",
      "          </a>\n",
      "         </li>\n",
      "         <li>\n",
      "          <a class=\"\" href=\"/es/gestion-de-la-demanda\">\n",
      "           Gestión de la demanda\n",
      "          </a>\n",
      "         </li>\n",
      "         <li class=\"is-hidden-in-header\">\n",
      "          <a class=\"\" href=\"/es/generacion-y-consumo/sistemas-no-peninsulares\">\n",
      "           Sistemas no peninsulares\n",
      "          </a>\n",
      "         </li>\n",
      "        </ul>\n",
      "       </nav>\n",
      "      </div>\n",
      "     </div>\n",
      "    </div>\n",
      "   </div>\n",
      "   <div class=\"layout-menu-mobile\">\n",
      "    <div class=\"mod-menu-mobile\">\n",
      "     <div class=\"mod-topbar\">\n",
      "      <ul class=\"top-nav\">\n",
      "       <li>\n",
      "        <form accept-charset=\"UTF-8\" action=\"/es/resultados\" method=\"get\">\n",
      "         <div style=\"display:none\">\n",
      "          <input name=\"utf8\" type=\"hidden\" value=\"✓\"/>\n",
      "         </div>\n",
      "         <input class=\"search-input icon-search\" id=\"query\" name=\"query\" type=\"search\"/>\n",
      "        </form>\n",
      "       </li>\n",
      "       <li class=\"icon-language sub-menu-switcher\">\n",
      "        <ul class=\"mod-sub-menu is-mobile-menu mod-main-navigation-submenu is-hidden\">\n",
      "         <li>\n",
      "          <a href=\"/es\">\n",
      "           Español\n",
      "          </a>\n",
      "         </li>\n",
      "         <li>\n",
      "          <a href=\"/en\">\n",
      "           Inglés\n",
      "          </a>\n",
      "         </li>\n",
      "        </ul>\n",
      "       </li>\n",
      "      </ul>\n",
      "     </div>\n",
      "     <div class=\"menu-mobile-wrapper\">\n",
      "      <nav>\n",
      "       <ul>\n",
      "        <li>\n",
      "         <h2>\n",
      "          General\n",
      "         </h2>\n",
      "         <ul>\n",
      "          <li>\n",
      "           <a href=\"/?locale=es\">\n",
      "            Inicio\n",
      "           </a>\n",
      "          </li>\n",
      "          <li>\n",
      "           <a class=\"\" href=\"/es/generacion-y-consumo\">\n",
      "            Generación y consumo\n",
      "           </a>\n",
      "          </li>\n",
      "          <li>\n",
      "           <a class=\"\" href=\"/es/mercados-y-precios\">\n",
      "            Mercados y precios\n",
      "           </a>\n",
      "          </li>\n",
      "          <li>\n",
      "           <a class=\"\" href=\"/es/gestion-de-la-demanda\">\n",
      "            Gestión de la demanda\n",
      "           </a>\n",
      "          </li>\n",
      "          <li>\n",
      "           <a class=\"\" href=\"/es/generacion-y-consumo/sistemas-no-peninsulares\">\n",
      "            Sistemas no peninsulares\n",
      "           </a>\n",
      "          </li>\n",
      "         </ul>\n",
      "        </li>\n",
      "        <li>\n",
      "         <h2>\n",
      "          útiles\n",
      "         </h2>\n",
      "         <ul>\n",
      "          <li>\n",
      "           <a href=\"/es/documentacion/\">\n",
      "            Documentación\n",
      "           </a>\n",
      "          </li>\n",
      "          <li>\n",
      "           <a href=\"/es/descargas\">\n",
      "            descargas de ficheros\n",
      "           </a>\n",
      "          </li>\n",
      "          <li>\n",
      "           <a href=\"/es/pagina/propuestas-de-procedimientos-de-operacion\">\n",
      "            Propuestas de P.O. y otras\n",
      "           </a>\n",
      "          </li>\n",
      "          <li>\n",
      "           <a href=\"/es/pagina/codigos-de-red\">\n",
      "            Códigos de red\n",
      "           </a>\n",
      "          </li>\n",
      "          <li>\n",
      "           <a href=\"/es/pagina/previsiones-demanda-renovable\">\n",
      "            Previsiones circular 4/2019\n",
      "           </a>\n",
      "          </li>\n",
      "          <li>\n",
      "           <a href=\"/es/ayuda\">\n",
      "            Ayuda\n",
      "           </a>\n",
      "          </li>\n",
      "          <li>\n",
      "           <a href=\"/es/preguntas-frecuentes\">\n",
      "            Faq\n",
      "           </a>\n",
      "          </li>\n",
      "          <li>\n",
      "           <a href=\"/es/glosario\">\n",
      "            Glosario\n",
      "           </a>\n",
      "          </li>\n",
      "          <li>\n",
      "           <a href=\"/es/mapa-del-sitio\">\n",
      "            Mapa del sitio\n",
      "           </a>\n",
      "          </li>\n",
      "         </ul>\n",
      "        </li>\n",
      "        <li>\n",
      "         <h2>\n",
      "          corporativo\n",
      "         </h2>\n",
      "         <ul>\n",
      "          <li>\n",
      "           <a href=\"/es/acerca-de-esios\">\n",
      "            Acerca de e·sios\n",
      "           </a>\n",
      "          </li>\n",
      "          <li>\n",
      "           <a href=\"/es/contacto\">\n",
      "            Contacto\n",
      "           </a>\n",
      "          </li>\n",
      "          <li>\n",
      "           <a href=\"/es/otros-enlaces\">\n",
      "            Otros enlaces\n",
      "           </a>\n",
      "          </li>\n",
      "          <li>\n",
      "           <a href=\"/es/aviso-legal-y-politica-de-privacidad\">\n",
      "            Aviso legal y política de privacidad\n",
      "           </a>\n",
      "          </li>\n",
      "         </ul>\n",
      "        </li>\n",
      "       </ul>\n",
      "      </nav>\n",
      "     </div>\n",
      "    </div>\n",
      "   </div>\n",
      "  </header>\n",
      "  <div class=\"layout-rapid-access\">\n",
      "   <div class=\"mod-rapid-access\">\n",
      "    <div class=\"wrap\">\n",
      "     <div class=\"row\">\n",
      "      <div class=\"grid-xs-24\">\n",
      "       <h1 class=\"is-disabled\">\n",
      "        Acceso rápido\n",
      "       </h1>\n",
      "       <nav>\n",
      "        <ul>\n",
      "        </ul>\n",
      "       </nav>\n",
      "      </div>\n",
      "     </div>\n",
      "    </div>\n",
      "   </div>\n",
      "  </div>\n",
      "  <div class=\"layout-header-banner\">\n",
      "   <div class=\"mod-banner is-xs-hidden\">\n",
      "    <div class=\"mod-banner-image\">\n",
      "    </div>\n",
      "   </div>\n",
      "  </div>\n",
      "  <div class=\"layout-main\">\n",
      "   <div class=\"layout-breadcrumbs\">\n",
      "    <div class=\"breadcrumbs-wrapper\">\n",
      "     <div class=\"wrap\">\n",
      "      <div class=\"row is-flex-center\">\n",
      "       <div class=\"grid-xs-12 grid-sm-15 is-xs-hidden\">\n",
      "        <div class=\"mod-breadcrumbs\">\n",
      "         <span class=\"pretext\">\n",
      "          Está en:\n",
      "         </span>\n",
      "         <a href=\"/?locale=es\">\n",
      "          Inicio\n",
      "         </a>\n",
      "         <span class=\"separator\">\n",
      "         </span>\n",
      "         <span class=\"current\">\n",
      "          Mercados y precios\n",
      "         </span>\n",
      "        </div>\n",
      "       </div>\n",
      "       <div class=\"grid-xs-24 grid-sm-9\">\n",
      "        <div class=\"mod-date mod-date-days is-day-selectable\" id=\"dateModView\">\n",
      "         <input class=\"datetime-input is-datetime hasDatepicker\" id=\"dp1667158674403\" readonly=\"readonly\" size=\"14\" style=\"width: 112px;\" type=\"text\"/>\n",
      "        </div>\n",
      "       </div>\n",
      "      </div>\n",
      "     </div>\n",
      "    </div>\n",
      "   </div>\n",
      "   <div class=\"layout-content\">\n",
      "    <div class=\"wrap\">\n",
      "     <div class=\"row\">\n",
      "      <div class=\"grid-sm-10 grid-xs-24\">\n",
      "       <div class=\"widget is-loading widget-myp-volumen\" id=\"mypVolumenWidgetView\">\n",
      "       </div>\n",
      "      </div>\n",
      "      <div class=\"grid-sm-14 offset-lg-1 grid-xs-24 grid-lg-13\">\n",
      "       <div class=\"widget is-loading widget-myp-coste\" id=\"mypCosteWidgetView\">\n",
      "       </div>\n",
      "      </div>\n",
      "     </div>\n",
      "    </div>\n",
      "   </div>\n",
      "   <div class=\"layout-related-content\">\n",
      "    <div class=\"wrap\">\n",
      "     <div class=\"row\">\n",
      "      <div class=\"grid-sm-12 grid-xs-24\">\n",
      "       <div class=\"widget is-loading widget-myp-precio\" id=\"mypPrecioWidgetView\">\n",
      "       </div>\n",
      "      </div>\n",
      "      <div class=\"grid-sm-12 grid-xs-24\">\n",
      "       <div class=\"widget is-loading widget-myp-facturacion\" id=\"mypFacturacionWidgetView\">\n",
      "       </div>\n",
      "      </div>\n",
      "     </div>\n",
      "     <div class=\"row\">\n",
      "      <div class=\"grid-sm-24 grid-xs-24\">\n",
      "       <div class=\"widget widget-10 is-loading\" id=\"mypSubastasWidgetView\">\n",
      "       </div>\n",
      "      </div>\n",
      "     </div>\n",
      "    </div>\n",
      "   </div>\n",
      "  </div>\n",
      "  <aside class=\"layout-subcontent\">\n",
      "   <div class=\"wrap\">\n",
      "    <div class=\"row\">\n",
      "     <div class=\"grid-sm-24 grid-xs-24\">\n",
      "      <div id=\"more\">\n",
      "       <h1 class=\"is-title-with-line\">\n",
      "        y además\n",
      "       </h1>\n",
      "      </div>\n",
      "     </div>\n",
      "    </div>\n",
      "    <div class=\"widget myp-ademas is-loading\" id=\"oneMoreThing\">\n",
      "    </div>\n",
      "    <div class=\"row\">\n",
      "     <div class=\"grid-sm-24 grid-xs-24\">\n",
      "      <div class=\"mod-search is-xs-hidden is-loading\" id=\"searchIndicators\">\n",
      "      </div>\n",
      "     </div>\n",
      "    </div>\n",
      "    <div class=\"row\">\n",
      "     <div class=\"grid-xs-24 documents-container\">\n",
      "      <div class=\"mod-documents\">\n",
      "       <h2>\n",
      "        documentos\n",
      "       </h2>\n",
      "       <ul>\n",
      "        <li>\n",
      "         <span class=\"icon-document\">\n",
      "         </span>\n",
      "         <a href=\"/es/documentacion/intercambio-de-informacion-con-el-os-liquidaciones\">\n",
      "          Intercambio de Información con el OS (Liquidaciones)\n",
      "         </a>\n",
      "        </li>\n",
      "        <li>\n",
      "         <span class=\"icon-document\">\n",
      "         </span>\n",
      "         <a href=\"/es/documentacion/p-o-3-2-resolucion-de-restricciones-tecnicas\">\n",
      "          P.O. 3.2 Resolución de restricciones técnicas\n",
      "         </a>\n",
      "        </li>\n",
      "        <li>\n",
      "         <span class=\"icon-document\">\n",
      "         </span>\n",
      "         <a href=\"/es/documentacion/p-o-7-3-regulacion-terciaria\">\n",
      "          P.O. 7.3 Regulación terciaria\n",
      "         </a>\n",
      "        </li>\n",
      "        <li>\n",
      "         <span class=\"icon-document\">\n",
      "         </span>\n",
      "         <a href=\"/es/documentacion/real-decreto-216-2014-metodologia-calculo-precios-voluntarios-pequeno-consumidor\">\n",
      "          Real Decreto 216/2014, de 28 de marzo, por el que se establece la metodología de cálculo de los precios voluntarios para el pequeño consumidor de energía eléctrica y su régimen jurídico de contratación.\n",
      "         </a>\n",
      "        </li>\n",
      "       </ul>\n",
      "       <div class=\"mod-action-buttons\">\n",
      "        <a class=\"btn-more-doc\" href=\"/es/documentacion?scope=Mercados+y+precios\">\n",
      "         ver más documentos\n",
      "        </a>\n",
      "        <a class=\"btn-download\" href=\"/es/descargas\">\n",
      "         descargas de ficheros\n",
      "        </a>\n",
      "       </div>\n",
      "      </div>\n",
      "      <div class=\"mod-documents\">\n",
      "       <h2>\n",
      "        Datos estructurales\n",
      "       </h2>\n",
      "       <ul>\n",
      "        <li>\n",
      "         <span class=\"icon-data\">\n",
      "         </span>\n",
      "         <a href=\"/es/participantes-habilitados-en-subastas-de-capacidad\">\n",
      "          Participantes habilitados para nominar derechos de capacidad en interconexión FR-ES\n",
      "         </a>\n",
      "        </li>\n",
      "        <li>\n",
      "         <span class=\"icon-data\">\n",
      "         </span>\n",
      "         <a href=\"/es/unidades-de-programacion\">\n",
      "          Unidades de programación\n",
      "         </a>\n",
      "        </li>\n",
      "        <li>\n",
      "         <span class=\"icon-data\">\n",
      "         </span>\n",
      "         <a href=\"/es/unidades-fisicas\">\n",
      "          Unidades físicas\n",
      "         </a>\n",
      "        </li>\n",
      "        <li>\n",
      "         <span class=\"icon-data\">\n",
      "         </span>\n",
      "         <a href=\"/es/sujetos-del-mercado\">\n",
      "          Sujetos del mercado\n",
      "         </a>\n",
      "        </li>\n",
      "       </ul>\n",
      "       <div class=\"mod-action-buttons\">\n",
      "        <a class=\"btn-more-doc\" href=\"https://www.gde.esios.ree.es\" target=\"_blank\">\n",
      "         Acceso a web pública de GDE\n",
      "        </a>\n",
      "       </div>\n",
      "      </div>\n",
      "     </div>\n",
      "    </div>\n",
      "    <div class=\"row is-stretch\">\n",
      "     <div class=\"grid-xs-24 grid-sm-18\">\n",
      "      <div class=\"mod-news\" id=\"newsModView\">\n",
      "      </div>\n",
      "     </div>\n",
      "     <div class=\"grid-xs-24 grid-sm-6 is-stretch\">\n",
      "      <div class=\"mod-maps\" id=\"mapsModView\">\n",
      "      </div>\n",
      "     </div>\n",
      "    </div>\n",
      "    <div class=\"row\">\n",
      "     <div class=\"grid-sm-12 grid-xs-24\">\n",
      "      <div id=\"highNews\">\n",
      "      </div>\n",
      "     </div>\n",
      "    </div>\n",
      "   </div>\n",
      "  </aside>\n",
      "  <footer class=\"layout-footer\">\n",
      "   <div class=\"layout-footer-nav\">\n",
      "    <div class=\"wrap\">\n",
      "     <div class=\"row\">\n",
      "      <div class=\"grid-sm-10 grid-xs-24 is-xs-hidden\">\n",
      "       <nav class=\"mod-navbar\">\n",
      "        <ul>\n",
      "         <li class=\"is-hidden-in-header\">\n",
      "          <a href=\"/?locale=es\">\n",
      "           Inicio\n",
      "          </a>\n",
      "         </li>\n",
      "         <li>\n",
      "          <a class=\"\" href=\"/es/generacion-y-consumo\">\n",
      "           Generación y consumo\n",
      "          </a>\n",
      "         </li>\n",
      "         <li>\n",
      "          <a class=\"is-current\" href=\"/es/mercados-y-precios\">\n",
      "           Mercados y precios\n",
      "          </a>\n",
      "         </li>\n",
      "         <li>\n",
      "          <a class=\"\" href=\"/es/gestion-de-la-demanda\">\n",
      "           Gestión de la demanda\n",
      "          </a>\n",
      "         </li>\n",
      "         <li class=\"is-hidden-in-header\">\n",
      "          <a class=\"\" href=\"/es/generacion-y-consumo/sistemas-no-peninsulares\">\n",
      "           Sistemas no peninsulares\n",
      "          </a>\n",
      "         </li>\n",
      "        </ul>\n",
      "       </nav>\n",
      "      </div>\n",
      "      <div class=\"grid-sm-10 grid-xs-24 is-xs-hidden\">\n",
      "       <nav class=\"mod-navbar\">\n",
      "        <ul>\n",
      "         <li>\n",
      "          <a href=\"/es/documentacion/\">\n",
      "           Documentación\n",
      "          </a>\n",
      "         </li>\n",
      "         <li>\n",
      "          <a href=\"/es/descargas\">\n",
      "           descargas de ficheros\n",
      "          </a>\n",
      "         </li>\n",
      "         <li>\n",
      "          <a href=\"/es/pagina/propuestas-de-procedimientos-de-operacion\">\n",
      "           Propuestas de P.O. y otras\n",
      "          </a>\n",
      "         </li>\n",
      "         <li>\n",
      "          <a href=\"/es/pagina/codigos-de-red\">\n",
      "           Códigos de red\n",
      "          </a>\n",
      "         </li>\n",
      "         <li>\n",
      "          <a href=\"/es/pagina/previsiones-demanda-renovable\">\n",
      "           Previsiones circular 4/2019\n",
      "          </a>\n",
      "         </li>\n",
      "        </ul>\n",
      "       </nav>\n",
      "      </div>\n",
      "      <div class=\"grid-sm-4 grid-xs-24 is-xs-hidden\">\n",
      "       <nav class=\"mod-navbar\">\n",
      "        <ul>\n",
      "         <li>\n",
      "          <a href=\"/es/ayuda\">\n",
      "           Ayuda\n",
      "          </a>\n",
      "         </li>\n",
      "         <li>\n",
      "          <a href=\"/es/preguntas-frecuentes\">\n",
      "           Faq\n",
      "          </a>\n",
      "         </li>\n",
      "         <li>\n",
      "          <a href=\"/es/contacto\">\n",
      "           Contacto\n",
      "          </a>\n",
      "         </li>\n",
      "         <li>\n",
      "          <a href=\"/es/glosario\">\n",
      "           Glosario\n",
      "          </a>\n",
      "         </li>\n",
      "         <li>\n",
      "          <a href=\"/es/otros-enlaces\">\n",
      "           Otros enlaces\n",
      "          </a>\n",
      "         </li>\n",
      "        </ul>\n",
      "       </nav>\n",
      "      </div>\n",
      "      <div class=\"grid-xs-24\">\n",
      "       <div class=\"follow-us\">\n",
      "        <a class=\"icon-facebook\" href=\"https://www.facebook.com/RedElectricaREE\" target=\"_blank\">\n",
      "         <svg height=\"44px\" id=\"Untitled-P%E1gina%201\" style=\"background-color:#ffffff00\" version=\"1.1\" viewbox=\"0 0 44 44\" width=\"44px\" x=\"0px\" xml:space=\"preserve\" xmlns=\"http://www.w3.org/2000/svg\" xmlns:xlink=\"http://www.w3.org/1999/xlink\" y=\"0px\">\n",
      "          <g>\n",
      "           <g>\n",
      "            <path d=\"M 0.5 22 C 0.5 9.8496 10.1685 0 22.0957 0 C 34.0229 0 43.6914 9.8496 43.6914 22 C 43.6914 34.1504 34.0229 44 22.0957 44 C 10.1685 44 0.5 34.1504 0.5 22 Z\" fill=\"#3a569c\">\n",
      "            </path>\n",
      "            <path d=\"M 28.0817 22.3877 L 28.0891 19.6172 C 28.0891 18.1738 28.224 17.4014 30.2571 17.4014 L 32.9734 17.4014 L 32.9734 11.8638 L 28.6268 11.8638 C 23.406 11.8638 21.5703 14.5503 21.5703 19.0654 L 21.5703 22.3877 L 18.3119 22.3877 L 18.3119 27.9219 L 21.5703 27.9219 L 21.5703 44 L 28.0817 44 L 28.0817 27.9219 L 32.4282 27.9219 L 33.0039 22.3877 L 28.0817 22.3877 Z\" fill=\"#ffffff\">\n",
      "            </path>\n",
      "           </g>\n",
      "          </g>\n",
      "         </svg>\n",
      "        </a>\n",
      "        <a class=\"icon-twitter\" href=\"https://twitter.com/RedElectricaREE\" target=\"_blank\">\n",
      "         <svg height=\"44px\" id=\"Untitled-P%E1gina%201\" style=\"background-color:#ffffff00\" version=\"1.1\" viewbox=\"0 0 44 44\" width=\"44px\" x=\"0px\" xml:space=\"preserve\" xmlns=\"http://www.w3.org/2000/svg\" xmlns:xlink=\"http://www.w3.org/1999/xlink\" y=\"0px\">\n",
      "          <g>\n",
      "           <g>\n",
      "            <path d=\"M 0.5 22 C 0.5 9.8496 10.1685 0 22.0957 0 C 34.0229 0 43.6914 9.8496 43.6914 22 C 43.6914 34.1504 34.0229 44 22.0957 44 C 10.1685 44 0.5 34.1504 0.5 22 Z\" fill=\"#5da9dd\">\n",
      "            </path>\n",
      "            <path d=\"M 34.3108 14.9521 C 33.4366 15.3477 32.4971 15.6138 31.5122 15.7344 C 32.5183 15.1196 33.29 14.1475 33.655 12.9873 C 32.7134 13.5566 31.6704 13.9702 30.5601 14.1924 C 29.6711 13.228 28.4048 12.625 27.0033 12.625 C 24.3123 12.625 22.1311 14.8467 22.1311 17.5879 C 22.1311 17.978 22.1738 18.3564 22.2571 18.7192 C 18.2073 18.5132 14.6174 16.5366 12.2136 13.5332 C 11.7946 14.2666 11.5542 15.1196 11.5542 16.0283 C 11.5542 17.7515 12.4146 19.2705 13.7222 20.1611 C 12.9229 20.1353 12.1715 19.9116 11.5151 19.54 C 11.5146 19.5605 11.5146 19.5811 11.5146 19.6025 C 11.5146 22.0078 13.1938 24.0132 15.423 24.4697 C 15.0144 24.5825 14.5836 24.6436 14.1392 24.6436 C 13.8254 24.6436 13.5203 24.6123 13.2223 24.5547 C 13.8423 26.5269 15.6423 27.9619 17.7744 28.002 C 16.1068 29.3325 14.0059 30.1265 11.7229 30.1265 C 11.3296 30.1265 10.9414 30.1025 10.5603 30.0566 C 12.7167 31.4658 15.2781 32.2881 18.0297 32.2881 C 26.9917 32.2881 31.8929 24.7231 31.8929 18.1641 C 31.8929 17.9492 31.8887 17.7354 31.8792 17.5215 C 32.8314 16.8223 33.657 15.9478 34.3108 14.9521 Z\" fill=\"#ffffff\">\n",
      "            </path>\n",
      "           </g>\n",
      "          </g>\n",
      "         </svg>\n",
      "        </a>\n",
      "        <a class=\"icon-linkedin\" href=\"https://es.linkedin.com/company/ree\" target=\"_blank\">\n",
      "         <svg height=\"44px\" id=\"Untitled-P%E1gina%201\" style=\"background-color:#ffffff00\" version=\"1.1\" viewbox=\"0 0 44 44\" width=\"44px\" x=\"0px\" xml:space=\"preserve\" xmlns=\"http://www.w3.org/2000/svg\" xmlns:xlink=\"http://www.w3.org/1999/xlink\" y=\"0px\">\n",
      "          <g>\n",
      "           <path d=\"M 0.5 22 C 0.5 9.8496 10.1685 0 22.0957 0 C 34.0229 0 43.6914 9.8496 43.6914 22 C 43.6914 34.1504 34.0229 44 22.0957 44 C 10.1685 44 0.5 34.1504 0.5 22 Z\" fill=\"#006699\">\n",
      "           </path>\n",
      "           <g>\n",
      "            <path d=\"M 16.6659 31.8453 L 11.8066 31.8453 L 11.8066 17.3176 L 16.6659 17.3176 L 16.6659 31.8453 Z\" fill=\"#ffffff\">\n",
      "            </path>\n",
      "            <path d=\"M 14.236 15.334 L 14.236 15.334 L 14.2043 15.334 C 12.5736 15.334 11.5193 14.2185 11.5193 12.8247 C 11.5193 11.3986 12.6059 10.3142 14.2682 10.3142 C 15.9311 10.3142 16.9538 11.3986 16.9854 12.8247 C 16.9854 14.2185 15.9311 15.334 14.236 15.334 Z\" fill=\"#ffffff\">\n",
      "            </path>\n",
      "            <path d=\"M 34.188 31.8453 L 29.3293 31.8453 L 29.3293 24.0733 C 29.3293 22.1204 28.6257 20.7884 26.8672 20.7884 C 25.5244 20.7884 24.7252 21.6864 24.3739 22.5544 C 24.2461 22.8648 24.2139 23.2988 24.2139 23.7328 L 24.2139 31.8453 L 19.3552 31.8453 C 19.3552 31.8453 19.4186 18.6808 19.3552 17.3176 L 24.2149 17.3176 L 24.2149 19.3747 C 24.8605 18.3854 26.0143 16.9771 28.5935 16.9771 C 31.7903 16.9771 34.188 19.0535 34.188 23.5158 L 34.188 31.8453 Z\" fill=\"#ffffff\">\n",
      "            </path>\n",
      "           </g>\n",
      "          </g>\n",
      "         </svg>\n",
      "        </a>\n",
      "        <a class=\"icon-youtube\" href=\"https://www.youtube.com/user/RedElectricaREE\" target=\"_blank\">\n",
      "         <svg height=\"44px\" id=\"Untitled-P%E1gina%201\" style=\"background-color:#ffffff00\" version=\"1.1\" viewbox=\"0 0 44 44\" width=\"44px\" x=\"0px\" xml:space=\"preserve\" xmlns=\"http://www.w3.org/2000/svg\" xmlns:xlink=\"http://www.w3.org/1999/xlink\" y=\"0px\">\n",
      "          <g>\n",
      "           <path d=\"M 0.5 22 C 0.5 9.8496 10.1685 0 22.0957 0 C 34.0229 0 43.6914 9.8496 43.6914 22 C 43.6914 34.1504 34.0229 44 22.0957 44 C 10.1685 44 0.5 34.1504 0.5 22 Z\" fill=\"#de2a2a\" id=\"Elipse\">\n",
      "           </path>\n",
      "           <path d=\"M 19 18.4448 L 26.0136 22.0017 L 19 25.6283 L 19 18.4448 ZM 10.7003 13.9581 C 9.2834 15.074 9 17.0562 9 22.0249 C 9 26.9937 9.4487 29.1386 10.5586 29.929 C 11.975 30.9377 14.8085 30.9984 21.9882 30.9984 C 29.1679 30.9984 32.2371 31.0914 33.5831 29.8593 C 34.7699 28.773 35 26.9937 35 22.0249 C 35 17.0562 34.6468 15.1689 33.5359 14.0976 C 32.3787 12.9817 29.2151 13.0049 22.0354 13.0049 C 14.8557 13.0049 12.0765 12.8742 10.7003 13.9581 Z\" fill=\"#ffffff\">\n",
      "           </path>\n",
      "          </g>\n",
      "         </svg>\n",
      "        </a>\n",
      "       </div>\n",
      "      </div>\n",
      "     </div>\n",
      "    </div>\n",
      "   </div>\n",
      "   <div class=\"layout-footer-bottom\">\n",
      "    <div class=\"wrap\">\n",
      "     <div class=\"row\">\n",
      "      <div class=\"grid-sm-19 grid-xs-24\">\n",
      "       <div class=\"footer-nav\">\n",
      "        © Red Eléctrica de España /\n",
      "        <a href=\"/es/aviso-legal-y-politica-de-privacidad\">\n",
      "         Aviso legal y política de privacidad\n",
      "        </a>\n",
      "        /\n",
      "        <a href=\"/es/mapa-del-sitio\">\n",
      "         Mapa del sitio\n",
      "        </a>\n",
      "        /\n",
      "        <a href=\"https://www.minetur.gob.es/energia/es-ES/SecretariaDeEstado/Paginas/SecretariaDeEstado.aspx\" target=\"_blank\">\n",
      "         Secretaría Estado Energía\n",
      "        </a>\n",
      "        /\n",
      "        <a href=\"https://www.cnmc.es/\" target=\"_blank\">\n",
      "         CNMC\n",
      "        </a>\n",
      "       </div>\n",
      "      </div>\n",
      "      <div class=\"grid-sm-5 is-right grid-xs-24\">\n",
      "       <div class=\"logo-ree-text\">\n",
      "        Web corporativa:\n",
      "        <strong>\n",
      "         <a href=\"https://www.ree.es\">\n",
      "          www.ree.es\n",
      "         </a>\n",
      "        </strong>\n",
      "       </div>\n",
      "      </div>\n",
      "     </div>\n",
      "    </div>\n",
      "   </div>\n",
      "  </footer>\n",
      "  <script src=\"/assets/i18n-0d49d92b89c34c68c6f2b39bae6e1472.js\">\n",
      "  </script>\n",
      "  <script src=\"/javascripts/translations.js\">\n",
      "  </script>\n",
      "  <script>\n",
      "   I18n.defaultLocale = \"es\";\n",
      "I18n.locale = \"es\";\n",
      "  </script>\n",
      "  <script>\n",
      "   var require = {\"baseUrl\":\"/assets\",\"paths\":{\"application\":\"/assets/application-aa0e240e833ba4b94b6395a71fd73f8a\",\"embed\":\"/assets/embed-da1f91f58b58c7f6df03b2d994f2b4bd\",\"analysis\":\"/assets/analysis-9f5f554023c994176f3dccb0d9bec535\",\"static\":\"/assets/static-b4c5e958af3e525752c48be92f1cb9c6\",\"supply_curves\":\"/assets/supply_curves-9e35bbdc8c9e215d86700ed454d55ec3\",\"myesios\":\"/assets/myesios-a75cc6ad77fc36fdba6521825f1c8cae\"},\"shim\":{\"class\":{\"exports\":\"Class\"},\"jquery\":{\"exports\":\"$\"},\"jqueryui\":{\"deps\":[\"jquery\"],\"exports\":\"$\"},\"chosen\":{\"deps\":[\"jquery\"],\"exports\":\"chosen\"},\"datatables\":{\"deps\":[\"jquery\"],\"exports\":\"$\"},\"dynatable\":{\"deps\":[\"jquery\"],\"exports\":\"$\"},\"slick\":{\"deps\":[\"jquery\"],\"exports\":\"$\"},\"underscore\":{\"exports\":\"_\"},\"underscoreString\":{\"deps\":[\"underscore\"],\"exports\":\"_\"},\"backboneLib\":{\"deps\":[\"jquery\",\"underscore\"],\"exports\":\"Backbone\"},\"handlebars\":{\"exports\":\"Handlebars\"},\"fb\":{\"exports\":\"FB\"},\"google\":{\"exports\":\"gapi\"},\"spin\":{\"exports\":\"Spinner\"},\"amplify\":{\"deps\":[\"jquery\"],\"exports\":\"amplify\"},\"charicharts\":{\"deps\":[\"d3\",\"moment\"],\"exports\":\"Charicharts\"},\"clndr\":{\"deps\":[\"jquery\",\"moment\",\"underscore\"]},\"responsiveimagemap\":{\"deps\":[\"jquery\"],\"exports\":\"$\"}}};\n",
      "  </script>\n",
      "  <script data-main=\"application-aa0e240e833ba4b94b6395a71fd73f8a\" src=\"/assets/require-6c3bfb5d1750bbb31dfeafdaef9b04b6.js\">\n",
      "  </script>\n",
      "  <div class=\"ui-datepicker ui-widget ui-widget-content ui-helper-clearfix ui-corner-all\" id=\"ui-datepicker-div\">\n",
      "  </div>\n",
      " </body>\n",
      "</html>\n"
     ]
    }
   ],
   "source": [
    "from bs4 import BeautifulSoup\n",
    "from selenium import webdriver\n",
    "from webdriver_manager.chrome import ChromeDriverManager\n",
    "\n",
    "driver = webdriver.Chrome(ChromeDriverManager().install())\n",
    "url = \"https://www.esios.ree.es/es/mercados-y-precios\"\n",
    "driver.get(url)\n",
    "soup = BeautifulSoup(driver.page_source, 'html.parser')\n",
    "driver.quit()\n",
    "print(soup. prettify())"
   ]
  },
  {
   "cell_type": "code",
   "execution_count": 30,
   "metadata": {
    "scrolled": true
   },
   "outputs": [
    {
     "data": {
      "text/plain": [
       "<html class=\"wf-proximanova-n7-active wf-proximanova-n4-active wf-proximanova-n6-active wf-proximanova-n8-active wf-proximanova-n3-active wf-active\" lang=\"es\"><!--<![endif]--><head><meta charset=\"utf-8\"/><meta content=\"ie=edge\" http-equiv=\"x-ua-compatible\"/><title>Mercados y precios | ESIOS electricidad · datos · transparencia</title><meta content=\"width=device-width, initial-scale=1\" name=\"viewport\"/><link href=\"/apple-touch-icon-57x57.png\" rel=\"apple-touch-icon\" sizes=\"57x57\"/><link href=\"/apple-touch-icon-60x60.png\" rel=\"apple-touch-icon\" sizes=\"60x60\"/><link href=\"/apple-touch-icon-72x72.png\" rel=\"apple-touch-icon\" sizes=\"72x72\"/><link href=\"/apple-touch-icon-76x76.png\" rel=\"apple-touch-icon\" sizes=\"76x76\"/><link href=\"/apple-touch-icon-114x114.png\" rel=\"apple-touch-icon\" sizes=\"114x114\"/><link href=\"/apple-touch-icon-120x120.png\" rel=\"apple-touch-icon\" sizes=\"120x120\"/><link href=\"/apple-touch-icon-144x144.png\" rel=\"apple-touch-icon\" sizes=\"144x144\"/><link href=\"/apple-touch-icon-152x152.png\" rel=\"apple-touch-icon\" sizes=\"152x152\"/><link href=\"/apple-touch-icon-180x180.png\" rel=\"apple-touch-icon\" sizes=\"180x180\"/><link href=\"/favicon-32x32.png\" rel=\"icon\" sizes=\"32x32\" type=\"image/png\"/><link href=\"/android-chrome-192x192.png\" rel=\"icon\" sizes=\"192x192\" type=\"image/png\"/><link href=\"/favicon-96x96.png\" rel=\"icon\" sizes=\"96x96\" type=\"image/png\"/><link href=\"/favicon-16x16.png\" rel=\"icon\" sizes=\"16x16\" type=\"image/png\"/><link href=\"/manifest.json\" rel=\"manifest\"/><meta content=\"#ffffff\" name=\"msapplication-TileColor\"/><meta content=\"/mstile-144x144.png\" name=\"msapplication-TileImage\"/><meta content=\"#ffffff\" name=\"theme-color\"/><script src=\"https://www.google-analytics.com/analytics.js\"></script><script src=\"//use.typekit.net/nid1ymo.js\"></script><style type=\"text/css\">.tk-proxima-nova{font-family:\"proxima-nova\",sans-serif;}</style><style type=\"text/css\">@font-face{font-family:tk-proxima-nova-n7;src:url(https://use.typekit.net/af/4ea7ba/0000000000000000000158cf/25/l?primer=7cdcb44be4a7db8877ffa5c0007b8dd865b3bbc383831fe2ea177f62257a9191&fvd=n7&v=3) format(\"woff2\"),url(https://use.typekit.net/af/4ea7ba/0000000000000000000158cf/25/d?primer=7cdcb44be4a7db8877ffa5c0007b8dd865b3bbc383831fe2ea177f62257a9191&fvd=n7&v=3) format(\"woff\"),url(https://use.typekit.net/af/4ea7ba/0000000000000000000158cf/25/a?primer=7cdcb44be4a7db8877ffa5c0007b8dd865b3bbc383831fe2ea177f62257a9191&fvd=n7&v=3) format(\"opentype\");font-weight:700;font-style:normal;font-stretch:normal;font-display:auto;}@font-face{font-family:tk-proxima-nova-n8;src:url(https://use.typekit.net/af/9b7248/0000000000000000000158d1/25/l?primer=7cdcb44be4a7db8877ffa5c0007b8dd865b3bbc383831fe2ea177f62257a9191&fvd=n8&v=3) format(\"woff2\"),url(https://use.typekit.net/af/9b7248/0000000000000000000158d1/25/d?primer=7cdcb44be4a7db8877ffa5c0007b8dd865b3bbc383831fe2ea177f62257a9191&fvd=n8&v=3) format(\"woff\"),url(https://use.typekit.net/af/9b7248/0000000000000000000158d1/25/a?primer=7cdcb44be4a7db8877ffa5c0007b8dd865b3bbc383831fe2ea177f62257a9191&fvd=n8&v=3) format(\"opentype\");font-weight:800;font-style:normal;font-stretch:normal;font-display:auto;}@font-face{font-family:tk-proxima-nova-n6;src:url(https://use.typekit.net/af/b5cbbb/0000000000000000000158d5/25/l?primer=7cdcb44be4a7db8877ffa5c0007b8dd865b3bbc383831fe2ea177f62257a9191&fvd=n6&v=3) format(\"woff2\"),url(https://use.typekit.net/af/b5cbbb/0000000000000000000158d5/25/d?primer=7cdcb44be4a7db8877ffa5c0007b8dd865b3bbc383831fe2ea177f62257a9191&fvd=n6&v=3) format(\"woff\"),url(https://use.typekit.net/af/b5cbbb/0000000000000000000158d5/25/a?primer=7cdcb44be4a7db8877ffa5c0007b8dd865b3bbc383831fe2ea177f62257a9191&fvd=n6&v=3) format(\"opentype\");font-weight:600;font-style:normal;font-stretch:normal;font-display:auto;}@font-face{font-family:tk-proxima-nova-n4;src:url(https://use.typekit.net/af/a83373/0000000000000000000158d7/25/l?primer=7cdcb44be4a7db8877ffa5c0007b8dd865b3bbc383831fe2ea177f62257a9191&fvd=n4&v=3) format(\"woff2\"),url(https://use.typekit.net/af/a83373/0000000000000000000158d7/25/d?primer=7cdcb44be4a7db8877ffa5c0007b8dd865b3bbc383831fe2ea177f62257a9191&fvd=n4&v=3) format(\"woff\"),url(https://use.typekit.net/af/a83373/0000000000000000000158d7/25/a?primer=7cdcb44be4a7db8877ffa5c0007b8dd865b3bbc383831fe2ea177f62257a9191&fvd=n4&v=3) format(\"opentype\");font-weight:400;font-style:normal;font-stretch:normal;font-display:auto;}@font-face{font-family:tk-proxima-nova-n3;src:url(https://use.typekit.net/af/4f3666/0000000000000000000158d9/25/l?primer=7cdcb44be4a7db8877ffa5c0007b8dd865b3bbc383831fe2ea177f62257a9191&fvd=n3&v=3) format(\"woff2\"),url(https://use.typekit.net/af/4f3666/0000000000000000000158d9/25/d?primer=7cdcb44be4a7db8877ffa5c0007b8dd865b3bbc383831fe2ea177f62257a9191&fvd=n3&v=3) format(\"woff\"),url(https://use.typekit.net/af/4f3666/0000000000000000000158d9/25/a?primer=7cdcb44be4a7db8877ffa5c0007b8dd865b3bbc383831fe2ea177f62257a9191&fvd=n3&v=3) format(\"opentype\");font-weight:300;font-style:normal;font-stretch:normal;font-display:auto;}</style><script>try{Typekit.load({async:true});}catch(e){}</script><link href=\"//fonts.googleapis.com/css?family=Cousine:400,700\" media=\"all\" rel=\"stylesheet\"/><link href=\"/assets/application-c90ac6687b6b307e2eabe2e3806f62bd.css\" media=\"all\" rel=\"stylesheet\"/><script>(function(b,o,i,l,e,r){b.GoogleAnalyticsObject=l;b[l]||(b[l]=\n",
       "function(){(b[l].q=b[l].q||[]).push(arguments)});b[l].l=+new Date;\n",
       "e=o.createElement(i);r=o.getElementsByTagName(i)[0];\n",
       "e.src='https://www.google-analytics.com/analytics.js';\n",
       "r.parentNode.insertBefore(e,r)}(window,document,'script','ga'));\n",
       "ga('create',\"UA-67185565-1\",'auto');ga('send','pageview');</script><meta content=\"authenticity_token\" name=\"csrf-param\"/>\n",
       "<meta content=\"qtiHzjtLCv+ySTOZvdObJJsZWBn5p5W5CV6KLEkjVnk=\" name=\"csrf-token\"/><style type=\"text/css\">@font-face{font-family:proxima-nova;src:url(https://use.typekit.net/af/4ea7ba/0000000000000000000158cf/25/l?primer=7cdcb44be4a7db8877ffa5c0007b8dd865b3bbc383831fe2ea177f62257a9191&fvd=n7&v=3) format(\"woff2\"),url(https://use.typekit.net/af/4ea7ba/0000000000000000000158cf/25/d?primer=7cdcb44be4a7db8877ffa5c0007b8dd865b3bbc383831fe2ea177f62257a9191&fvd=n7&v=3) format(\"woff\"),url(https://use.typekit.net/af/4ea7ba/0000000000000000000158cf/25/a?primer=7cdcb44be4a7db8877ffa5c0007b8dd865b3bbc383831fe2ea177f62257a9191&fvd=n7&v=3) format(\"opentype\");font-weight:700;font-style:normal;font-stretch:normal;font-display:auto;}@font-face{font-family:proxima-nova;src:url(https://use.typekit.net/af/9b7248/0000000000000000000158d1/25/l?primer=7cdcb44be4a7db8877ffa5c0007b8dd865b3bbc383831fe2ea177f62257a9191&fvd=n8&v=3) format(\"woff2\"),url(https://use.typekit.net/af/9b7248/0000000000000000000158d1/25/d?primer=7cdcb44be4a7db8877ffa5c0007b8dd865b3bbc383831fe2ea177f62257a9191&fvd=n8&v=3) format(\"woff\"),url(https://use.typekit.net/af/9b7248/0000000000000000000158d1/25/a?primer=7cdcb44be4a7db8877ffa5c0007b8dd865b3bbc383831fe2ea177f62257a9191&fvd=n8&v=3) format(\"opentype\");font-weight:800;font-style:normal;font-stretch:normal;font-display:auto;}@font-face{font-family:proxima-nova;src:url(https://use.typekit.net/af/b5cbbb/0000000000000000000158d5/25/l?primer=7cdcb44be4a7db8877ffa5c0007b8dd865b3bbc383831fe2ea177f62257a9191&fvd=n6&v=3) format(\"woff2\"),url(https://use.typekit.net/af/b5cbbb/0000000000000000000158d5/25/d?primer=7cdcb44be4a7db8877ffa5c0007b8dd865b3bbc383831fe2ea177f62257a9191&fvd=n6&v=3) format(\"woff\"),url(https://use.typekit.net/af/b5cbbb/0000000000000000000158d5/25/a?primer=7cdcb44be4a7db8877ffa5c0007b8dd865b3bbc383831fe2ea177f62257a9191&fvd=n6&v=3) format(\"opentype\");font-weight:600;font-style:normal;font-stretch:normal;font-display:auto;}@font-face{font-family:proxima-nova;src:url(https://use.typekit.net/af/a83373/0000000000000000000158d7/25/l?primer=7cdcb44be4a7db8877ffa5c0007b8dd865b3bbc383831fe2ea177f62257a9191&fvd=n4&v=3) format(\"woff2\"),url(https://use.typekit.net/af/a83373/0000000000000000000158d7/25/d?primer=7cdcb44be4a7db8877ffa5c0007b8dd865b3bbc383831fe2ea177f62257a9191&fvd=n4&v=3) format(\"woff\"),url(https://use.typekit.net/af/a83373/0000000000000000000158d7/25/a?primer=7cdcb44be4a7db8877ffa5c0007b8dd865b3bbc383831fe2ea177f62257a9191&fvd=n4&v=3) format(\"opentype\");font-weight:400;font-style:normal;font-stretch:normal;font-display:auto;}@font-face{font-family:proxima-nova;src:url(https://use.typekit.net/af/4f3666/0000000000000000000158d9/25/l?primer=7cdcb44be4a7db8877ffa5c0007b8dd865b3bbc383831fe2ea177f62257a9191&fvd=n3&v=3) format(\"woff2\"),url(https://use.typekit.net/af/4f3666/0000000000000000000158d9/25/d?primer=7cdcb44be4a7db8877ffa5c0007b8dd865b3bbc383831fe2ea177f62257a9191&fvd=n3&v=3) format(\"woff\"),url(https://use.typekit.net/af/4f3666/0000000000000000000158d9/25/a?primer=7cdcb44be4a7db8877ffa5c0007b8dd865b3bbc383831fe2ea177f62257a9191&fvd=n3&v=3) format(\"opentype\");font-weight:300;font-style:normal;font-stretch:normal;font-display:auto;}</style><script async=\"\" charset=\"utf-8\" data-requirecontext=\"_\" data-requiremodule=\"application-aa0e240e833ba4b94b6395a71fd73f8a\" src=\"/assets/application-aa0e240e833ba4b94b6395a71fd73f8a.js\" type=\"text/javascript\"></script><style type=\"text/css\"></style></head><body class=\"is-univers-page is-myp-page is-chrome is-chrome-107\"><header class=\"layout-header\"><div class=\"layout-header-top\"><div class=\"wrap\"><div class=\"row\"><div class=\"grid-xs-24 grid-sm-8\"></div><div class=\"grid-xs-24 grid-sm-16 is-xs-hidden\"><div class=\"mod-topbar\"><a href=\"/es/acerca-de-esios\">Acerca de e·sios</a> | Buscador<form accept-charset=\"UTF-8\" action=\"/es/resultados\" method=\"get\"><div style=\"display:none\"><input name=\"utf8\" type=\"hidden\" value=\"✓\"/></div><input class=\"search-input icon-search\" id=\"query\" name=\"query\" type=\"search\"/></form><ul class=\"top-nav\"><li class=\"icon-user sub-menu-switcher\"><ul class=\"mod-sub-menu mod-main-navigation-submenu is-hidden\"><li><a href=\"/es/mi-esios\">Mi e·sios</a></li><li><a class=\"is-hidden\" href=\"#logout\" id=\"logoutBtn\">Cerrar sesión</a></li></ul></li><li class=\"icon-help sub-menu-switcher\"><ul class=\"mod-sub-menu mod-main-navigation-submenu is-hidden\"><li><a href=\"/es/ayuda\">Ayuda</a></li><li><a href=\"/es/preguntas-frecuentes\">Faq</a></li><li><a href=\"/es/glosario\">Glosario</a></li></ul></li><li class=\"icon-language sub-menu-switcher\"><ul class=\"mod-sub-menu mod-main-navigation-submenu is-align-right is-hidden\"><li><a href=\"/en/market-and-prices\">English</a></li><li><a href=\"/es/mercados-y-precios\">Español</a></li></ul></li></ul></div></div></div></div></div><div class=\"layout-header-nav\"><button class=\"btn-mobile-menu icon-menu is-hidden\" id=\"menu-mobile-switch\"></button><div class=\"wrap\"><div class=\"row\"><div class=\"grid-sm-7 grid-xs-20\"><a class=\"brand\" href=\"/?locale=es\"><img alt=\"Esios\" height=\"80\" src=\"/assets/eSIOS-3bd95eec2469a99aaa2858c9d5b670c4.svg\" width=\"300\"/></a></div><div class=\"grid-sm-17 grid-xs-24 is-xs-hidden\"><nav class=\"mod-navbar\"><ul><li class=\"is-hidden-in-header\"><a href=\"/?locale=es\">Inicio</a></li><li><a class=\"\" href=\"/es/generacion-y-consumo\">Generación y consumo</a></li><li><a class=\"is-current\" href=\"/es/mercados-y-precios\">Mercados y precios</a></li><li><a class=\"\" href=\"/es/gestion-de-la-demanda\">Gestión de la demanda</a></li><li class=\"is-hidden-in-header\"><a class=\"\" href=\"/es/generacion-y-consumo/sistemas-no-peninsulares\">Sistemas no peninsulares</a></li></ul></nav></div></div></div></div><div class=\"layout-menu-mobile\"><div class=\"mod-menu-mobile\"><div class=\"mod-topbar\"><ul class=\"top-nav\"><li><form accept-charset=\"UTF-8\" action=\"/es/resultados\" method=\"get\"><div style=\"display:none\"><input name=\"utf8\" type=\"hidden\" value=\"✓\"/></div><input class=\"search-input icon-search\" id=\"query\" name=\"query\" type=\"search\"/></form></li><li class=\"icon-language sub-menu-switcher\"><ul class=\"mod-sub-menu is-mobile-menu mod-main-navigation-submenu is-hidden\"><li><a href=\"/es\">Español</a></li><li><a href=\"/en\">Inglés</a></li></ul></li></ul></div><div class=\"menu-mobile-wrapper\"><nav><ul><li><h2>General</h2><ul><li><a href=\"/?locale=es\">Inicio</a></li><li><a class=\"\" href=\"/es/generacion-y-consumo\">Generación y consumo</a></li><li><a class=\"\" href=\"/es/mercados-y-precios\">Mercados y precios</a></li><li><a class=\"\" href=\"/es/gestion-de-la-demanda\">Gestión de la demanda</a></li><li><a class=\"\" href=\"/es/generacion-y-consumo/sistemas-no-peninsulares\">Sistemas no peninsulares</a></li></ul></li><li><h2>útiles</h2><ul><li><a href=\"/es/documentacion/\">Documentación</a></li><li><a href=\"/es/descargas\">descargas de ficheros</a></li><li><a href=\"/es/pagina/propuestas-de-procedimientos-de-operacion\">Propuestas de P.O. y otras</a></li><li><a href=\"/es/pagina/codigos-de-red\">Códigos de red</a></li><li><a href=\"/es/pagina/previsiones-demanda-renovable\">Previsiones circular 4/2019</a></li><li><a href=\"/es/ayuda\">Ayuda</a></li><li><a href=\"/es/preguntas-frecuentes\">Faq</a></li><li><a href=\"/es/glosario\">Glosario</a></li><li><a href=\"/es/mapa-del-sitio\">Mapa del sitio</a></li></ul></li><li><h2>corporativo</h2><ul><li><a href=\"/es/acerca-de-esios\">Acerca de e·sios</a></li><li><a href=\"/es/contacto\">Contacto</a></li><li><a href=\"/es/otros-enlaces\">Otros enlaces</a></li><li><a href=\"/es/aviso-legal-y-politica-de-privacidad\">Aviso legal y política de privacidad</a></li></ul></li></ul></nav></div></div></div></header><div class=\"layout-rapid-access\"><div class=\"mod-rapid-access\"><div class=\"wrap\"><div class=\"row\"><div class=\"grid-xs-24\"><h1 class=\"is-disabled\">Acceso rápido</h1><nav><ul></ul></nav></div></div></div></div></div><div class=\"layout-header-banner\"><div class=\"mod-banner is-xs-hidden\"><div class=\"mod-banner-image\"></div></div></div><div class=\"layout-main\"><div class=\"layout-breadcrumbs\"><div class=\"breadcrumbs-wrapper\"><div class=\"wrap\"><div class=\"row is-flex-center\"><div class=\"grid-xs-12 grid-sm-15 is-xs-hidden\"><div class=\"mod-breadcrumbs\"><span class=\"pretext\">Está en: </span> <a href=\"/?locale=es\">Inicio</a> <span class=\"separator\"></span> <span class=\"current\">Mercados y precios</span></div></div><div class=\"grid-xs-24 grid-sm-9\"><div class=\"mod-date mod-date-days is-day-selectable\" id=\"dateModView\"><input class=\"datetime-input is-datetime hasDatepicker\" id=\"dp1667158674403\" readonly=\"readonly\" size=\"14\" style=\"width: 112px;\" type=\"text\"/></div></div></div></div></div></div><div class=\"layout-content\"><div class=\"wrap\"><div class=\"row\"><div class=\"grid-sm-10 grid-xs-24\"><div class=\"widget is-loading widget-myp-volumen\" id=\"mypVolumenWidgetView\"></div></div><div class=\"grid-sm-14 offset-lg-1 grid-xs-24 grid-lg-13\"><div class=\"widget is-loading widget-myp-coste\" id=\"mypCosteWidgetView\"></div></div></div></div></div><div class=\"layout-related-content\"><div class=\"wrap\"><div class=\"row\"><div class=\"grid-sm-12 grid-xs-24\"><div class=\"widget is-loading widget-myp-precio\" id=\"mypPrecioWidgetView\"></div></div><div class=\"grid-sm-12 grid-xs-24\"><div class=\"widget is-loading widget-myp-facturacion\" id=\"mypFacturacionWidgetView\"></div></div></div><div class=\"row\"><div class=\"grid-sm-24 grid-xs-24\"><div class=\"widget widget-10 is-loading\" id=\"mypSubastasWidgetView\"></div></div></div></div></div></div><aside class=\"layout-subcontent\"><div class=\"wrap\"><div class=\"row\"><div class=\"grid-sm-24 grid-xs-24\"><div id=\"more\"><h1 class=\"is-title-with-line\">y además</h1></div></div></div><div class=\"widget myp-ademas is-loading\" id=\"oneMoreThing\"></div><div class=\"row\"><div class=\"grid-sm-24 grid-xs-24\"><div class=\"mod-search is-xs-hidden is-loading\" id=\"searchIndicators\"></div></div></div><div class=\"row\"><div class=\"grid-xs-24 documents-container\"><div class=\"mod-documents\"><h2>documentos</h2><ul><li><span class=\"icon-document\"></span><a href=\"/es/documentacion/intercambio-de-informacion-con-el-os-liquidaciones\">Intercambio de Información con el OS (Liquidaciones)</a></li><li><span class=\"icon-document\"></span><a href=\"/es/documentacion/p-o-3-2-resolucion-de-restricciones-tecnicas\">P.O. 3.2 Resolución de restricciones técnicas</a></li><li><span class=\"icon-document\"></span><a href=\"/es/documentacion/p-o-7-3-regulacion-terciaria\">P.O. 7.3 Regulación terciaria</a></li><li><span class=\"icon-document\"></span><a href=\"/es/documentacion/real-decreto-216-2014-metodologia-calculo-precios-voluntarios-pequeno-consumidor\">Real Decreto 216/2014, de 28 de marzo, por el que se establece la metodología de cálculo de los precios voluntarios para el pequeño consumidor de energía eléctrica y su régimen jurídico de contratación.</a></li></ul><div class=\"mod-action-buttons\"><a class=\"btn-more-doc\" href=\"/es/documentacion?scope=Mercados+y+precios\">ver más documentos</a><a class=\"btn-download\" href=\"/es/descargas\">descargas de ficheros</a></div></div><div class=\"mod-documents\"><h2>Datos estructurales</h2><ul><li><span class=\"icon-data\"></span><a href=\"/es/participantes-habilitados-en-subastas-de-capacidad\">Participantes habilitados para nominar derechos de capacidad en interconexión FR-ES</a></li><li><span class=\"icon-data\"></span><a href=\"/es/unidades-de-programacion\">Unidades de programación</a></li><li><span class=\"icon-data\"></span><a href=\"/es/unidades-fisicas\">Unidades físicas</a></li><li><span class=\"icon-data\"></span><a href=\"/es/sujetos-del-mercado\">Sujetos del mercado</a></li></ul><div class=\"mod-action-buttons\"><a class=\"btn-more-doc\" href=\"https://www.gde.esios.ree.es\" target=\"_blank\">Acceso a web pública de GDE</a></div></div></div></div><div class=\"row is-stretch\"><div class=\"grid-xs-24 grid-sm-18\"><div class=\"mod-news\" id=\"newsModView\"></div></div><div class=\"grid-xs-24 grid-sm-6 is-stretch\"><div class=\"mod-maps\" id=\"mapsModView\"></div></div></div><div class=\"row\"><div class=\"grid-sm-12 grid-xs-24\"><div id=\"highNews\"></div></div></div></div></aside><footer class=\"layout-footer\"><div class=\"layout-footer-nav\"><div class=\"wrap\"><div class=\"row\"><div class=\"grid-sm-10 grid-xs-24 is-xs-hidden\"><nav class=\"mod-navbar\"><ul><li class=\"is-hidden-in-header\"><a href=\"/?locale=es\">Inicio</a></li><li><a class=\"\" href=\"/es/generacion-y-consumo\">Generación y consumo</a></li><li><a class=\"is-current\" href=\"/es/mercados-y-precios\">Mercados y precios</a></li><li><a class=\"\" href=\"/es/gestion-de-la-demanda\">Gestión de la demanda</a></li><li class=\"is-hidden-in-header\"><a class=\"\" href=\"/es/generacion-y-consumo/sistemas-no-peninsulares\">Sistemas no peninsulares</a></li></ul></nav></div><div class=\"grid-sm-10 grid-xs-24 is-xs-hidden\"><nav class=\"mod-navbar\"><ul><li><a href=\"/es/documentacion/\">Documentación</a></li><li><a href=\"/es/descargas\">descargas de ficheros</a></li><li><a href=\"/es/pagina/propuestas-de-procedimientos-de-operacion\">Propuestas de P.O. y otras</a></li><li><a href=\"/es/pagina/codigos-de-red\">Códigos de red</a></li><li><a href=\"/es/pagina/previsiones-demanda-renovable\">Previsiones circular 4/2019</a></li></ul></nav></div><div class=\"grid-sm-4 grid-xs-24 is-xs-hidden\"><nav class=\"mod-navbar\"><ul><li><a href=\"/es/ayuda\">Ayuda</a></li><li><a href=\"/es/preguntas-frecuentes\">Faq</a></li><li><a href=\"/es/contacto\">Contacto</a></li><li><a href=\"/es/glosario\">Glosario</a></li><li><a href=\"/es/otros-enlaces\">Otros enlaces</a></li></ul></nav></div><div class=\"grid-xs-24\"><div class=\"follow-us\"><a class=\"icon-facebook\" href=\"https://www.facebook.com/RedElectricaREE\" target=\"_blank\"><svg height=\"44px\" id=\"Untitled-P%E1gina%201\" style=\"background-color:#ffffff00\" version=\"1.1\" viewbox=\"0 0 44 44\" width=\"44px\" x=\"0px\" xml:space=\"preserve\" xmlns=\"http://www.w3.org/2000/svg\" xmlns:xlink=\"http://www.w3.org/1999/xlink\" y=\"0px\"><g><g><path d=\"M 0.5 22 C 0.5 9.8496 10.1685 0 22.0957 0 C 34.0229 0 43.6914 9.8496 43.6914 22 C 43.6914 34.1504 34.0229 44 22.0957 44 C 10.1685 44 0.5 34.1504 0.5 22 Z\" fill=\"#3a569c\"></path><path d=\"M 28.0817 22.3877 L 28.0891 19.6172 C 28.0891 18.1738 28.224 17.4014 30.2571 17.4014 L 32.9734 17.4014 L 32.9734 11.8638 L 28.6268 11.8638 C 23.406 11.8638 21.5703 14.5503 21.5703 19.0654 L 21.5703 22.3877 L 18.3119 22.3877 L 18.3119 27.9219 L 21.5703 27.9219 L 21.5703 44 L 28.0817 44 L 28.0817 27.9219 L 32.4282 27.9219 L 33.0039 22.3877 L 28.0817 22.3877 Z\" fill=\"#ffffff\"></path></g></g></svg></a><a class=\"icon-twitter\" href=\"https://twitter.com/RedElectricaREE\" target=\"_blank\"><svg height=\"44px\" id=\"Untitled-P%E1gina%201\" style=\"background-color:#ffffff00\" version=\"1.1\" viewbox=\"0 0 44 44\" width=\"44px\" x=\"0px\" xml:space=\"preserve\" xmlns=\"http://www.w3.org/2000/svg\" xmlns:xlink=\"http://www.w3.org/1999/xlink\" y=\"0px\"><g><g><path d=\"M 0.5 22 C 0.5 9.8496 10.1685 0 22.0957 0 C 34.0229 0 43.6914 9.8496 43.6914 22 C 43.6914 34.1504 34.0229 44 22.0957 44 C 10.1685 44 0.5 34.1504 0.5 22 Z\" fill=\"#5da9dd\"></path><path d=\"M 34.3108 14.9521 C 33.4366 15.3477 32.4971 15.6138 31.5122 15.7344 C 32.5183 15.1196 33.29 14.1475 33.655 12.9873 C 32.7134 13.5566 31.6704 13.9702 30.5601 14.1924 C 29.6711 13.228 28.4048 12.625 27.0033 12.625 C 24.3123 12.625 22.1311 14.8467 22.1311 17.5879 C 22.1311 17.978 22.1738 18.3564 22.2571 18.7192 C 18.2073 18.5132 14.6174 16.5366 12.2136 13.5332 C 11.7946 14.2666 11.5542 15.1196 11.5542 16.0283 C 11.5542 17.7515 12.4146 19.2705 13.7222 20.1611 C 12.9229 20.1353 12.1715 19.9116 11.5151 19.54 C 11.5146 19.5605 11.5146 19.5811 11.5146 19.6025 C 11.5146 22.0078 13.1938 24.0132 15.423 24.4697 C 15.0144 24.5825 14.5836 24.6436 14.1392 24.6436 C 13.8254 24.6436 13.5203 24.6123 13.2223 24.5547 C 13.8423 26.5269 15.6423 27.9619 17.7744 28.002 C 16.1068 29.3325 14.0059 30.1265 11.7229 30.1265 C 11.3296 30.1265 10.9414 30.1025 10.5603 30.0566 C 12.7167 31.4658 15.2781 32.2881 18.0297 32.2881 C 26.9917 32.2881 31.8929 24.7231 31.8929 18.1641 C 31.8929 17.9492 31.8887 17.7354 31.8792 17.5215 C 32.8314 16.8223 33.657 15.9478 34.3108 14.9521 Z\" fill=\"#ffffff\"></path></g></g></svg></a><a class=\"icon-linkedin\" href=\"https://es.linkedin.com/company/ree\" target=\"_blank\"><svg height=\"44px\" id=\"Untitled-P%E1gina%201\" style=\"background-color:#ffffff00\" version=\"1.1\" viewbox=\"0 0 44 44\" width=\"44px\" x=\"0px\" xml:space=\"preserve\" xmlns=\"http://www.w3.org/2000/svg\" xmlns:xlink=\"http://www.w3.org/1999/xlink\" y=\"0px\"><g><path d=\"M 0.5 22 C 0.5 9.8496 10.1685 0 22.0957 0 C 34.0229 0 43.6914 9.8496 43.6914 22 C 43.6914 34.1504 34.0229 44 22.0957 44 C 10.1685 44 0.5 34.1504 0.5 22 Z\" fill=\"#006699\"></path><g><path d=\"M 16.6659 31.8453 L 11.8066 31.8453 L 11.8066 17.3176 L 16.6659 17.3176 L 16.6659 31.8453 Z\" fill=\"#ffffff\"></path><path d=\"M 14.236 15.334 L 14.236 15.334 L 14.2043 15.334 C 12.5736 15.334 11.5193 14.2185 11.5193 12.8247 C 11.5193 11.3986 12.6059 10.3142 14.2682 10.3142 C 15.9311 10.3142 16.9538 11.3986 16.9854 12.8247 C 16.9854 14.2185 15.9311 15.334 14.236 15.334 Z\" fill=\"#ffffff\"></path><path d=\"M 34.188 31.8453 L 29.3293 31.8453 L 29.3293 24.0733 C 29.3293 22.1204 28.6257 20.7884 26.8672 20.7884 C 25.5244 20.7884 24.7252 21.6864 24.3739 22.5544 C 24.2461 22.8648 24.2139 23.2988 24.2139 23.7328 L 24.2139 31.8453 L 19.3552 31.8453 C 19.3552 31.8453 19.4186 18.6808 19.3552 17.3176 L 24.2149 17.3176 L 24.2149 19.3747 C 24.8605 18.3854 26.0143 16.9771 28.5935 16.9771 C 31.7903 16.9771 34.188 19.0535 34.188 23.5158 L 34.188 31.8453 Z\" fill=\"#ffffff\"></path></g></g></svg></a><a class=\"icon-youtube\" href=\"https://www.youtube.com/user/RedElectricaREE\" target=\"_blank\"><svg height=\"44px\" id=\"Untitled-P%E1gina%201\" style=\"background-color:#ffffff00\" version=\"1.1\" viewbox=\"0 0 44 44\" width=\"44px\" x=\"0px\" xml:space=\"preserve\" xmlns=\"http://www.w3.org/2000/svg\" xmlns:xlink=\"http://www.w3.org/1999/xlink\" y=\"0px\"><g><path d=\"M 0.5 22 C 0.5 9.8496 10.1685 0 22.0957 0 C 34.0229 0 43.6914 9.8496 43.6914 22 C 43.6914 34.1504 34.0229 44 22.0957 44 C 10.1685 44 0.5 34.1504 0.5 22 Z\" fill=\"#de2a2a\" id=\"Elipse\"></path><path d=\"M 19 18.4448 L 26.0136 22.0017 L 19 25.6283 L 19 18.4448 ZM 10.7003 13.9581 C 9.2834 15.074 9 17.0562 9 22.0249 C 9 26.9937 9.4487 29.1386 10.5586 29.929 C 11.975 30.9377 14.8085 30.9984 21.9882 30.9984 C 29.1679 30.9984 32.2371 31.0914 33.5831 29.8593 C 34.7699 28.773 35 26.9937 35 22.0249 C 35 17.0562 34.6468 15.1689 33.5359 14.0976 C 32.3787 12.9817 29.2151 13.0049 22.0354 13.0049 C 14.8557 13.0049 12.0765 12.8742 10.7003 13.9581 Z\" fill=\"#ffffff\"></path></g></svg></a></div></div></div></div></div><div class=\"layout-footer-bottom\"><div class=\"wrap\"><div class=\"row\"><div class=\"grid-sm-19 grid-xs-24\"><div class=\"footer-nav\">© Red Eléctrica de España / <a href=\"/es/aviso-legal-y-politica-de-privacidad\">Aviso legal y política de privacidad</a> / <a href=\"/es/mapa-del-sitio\">Mapa del sitio</a> / <a href=\"https://www.minetur.gob.es/energia/es-ES/SecretariaDeEstado/Paginas/SecretariaDeEstado.aspx\" target=\"_blank\">Secretaría Estado Energía</a> / <a href=\"https://www.cnmc.es/\" target=\"_blank\">CNMC</a></div></div><div class=\"grid-sm-5 is-right grid-xs-24\"><div class=\"logo-ree-text\">Web corporativa: <strong><a href=\"https://www.ree.es\">www.ree.es</a></strong></div></div></div></div></div></footer><script src=\"/assets/i18n-0d49d92b89c34c68c6f2b39bae6e1472.js\"></script><script src=\"/javascripts/translations.js\"></script><script>I18n.defaultLocale = \"es\";\n",
       "I18n.locale = \"es\";</script> <script>var require = {\"baseUrl\":\"/assets\",\"paths\":{\"application\":\"/assets/application-aa0e240e833ba4b94b6395a71fd73f8a\",\"embed\":\"/assets/embed-da1f91f58b58c7f6df03b2d994f2b4bd\",\"analysis\":\"/assets/analysis-9f5f554023c994176f3dccb0d9bec535\",\"static\":\"/assets/static-b4c5e958af3e525752c48be92f1cb9c6\",\"supply_curves\":\"/assets/supply_curves-9e35bbdc8c9e215d86700ed454d55ec3\",\"myesios\":\"/assets/myesios-a75cc6ad77fc36fdba6521825f1c8cae\"},\"shim\":{\"class\":{\"exports\":\"Class\"},\"jquery\":{\"exports\":\"$\"},\"jqueryui\":{\"deps\":[\"jquery\"],\"exports\":\"$\"},\"chosen\":{\"deps\":[\"jquery\"],\"exports\":\"chosen\"},\"datatables\":{\"deps\":[\"jquery\"],\"exports\":\"$\"},\"dynatable\":{\"deps\":[\"jquery\"],\"exports\":\"$\"},\"slick\":{\"deps\":[\"jquery\"],\"exports\":\"$\"},\"underscore\":{\"exports\":\"_\"},\"underscoreString\":{\"deps\":[\"underscore\"],\"exports\":\"_\"},\"backboneLib\":{\"deps\":[\"jquery\",\"underscore\"],\"exports\":\"Backbone\"},\"handlebars\":{\"exports\":\"Handlebars\"},\"fb\":{\"exports\":\"FB\"},\"google\":{\"exports\":\"gapi\"},\"spin\":{\"exports\":\"Spinner\"},\"amplify\":{\"deps\":[\"jquery\"],\"exports\":\"amplify\"},\"charicharts\":{\"deps\":[\"d3\",\"moment\"],\"exports\":\"Charicharts\"},\"clndr\":{\"deps\":[\"jquery\",\"moment\",\"underscore\"]},\"responsiveimagemap\":{\"deps\":[\"jquery\"],\"exports\":\"$\"}}};</script>\n",
       "<script data-main=\"application-aa0e240e833ba4b94b6395a71fd73f8a\" src=\"/assets/require-6c3bfb5d1750bbb31dfeafdaef9b04b6.js\"></script>\n",
       "<div class=\"ui-datepicker ui-widget ui-widget-content ui-helper-clearfix ui-corner-all\" id=\"ui-datepicker-div\"></div></body></html>"
      ]
     },
     "execution_count": 30,
     "metadata": {},
     "output_type": "execute_result"
    }
   ],
   "source": [
    "soup"
   ]
  },
  {
   "cell_type": "code",
   "execution_count": 41,
   "metadata": {},
   "outputs": [],
   "source": [
    "itemList = soup.find_all('div', {'class' : 'tooltip-header'})\n",
    "\n",
    "for element in enumerate(itemList):\n",
    "    print(element.a['href'])"
   ]
  },
  {
   "cell_type": "code",
   "execution_count": 37,
   "metadata": {
    "scrolled": true
   },
   "outputs": [
    {
     "data": {
      "text/plain": [
       "[<div class=\"grid-sm-14 offset-lg-1 grid-xs-24 grid-lg-13\"><div class=\"widget is-loading widget-myp-coste\" id=\"mypCosteWidgetView\"></div></div>]"
      ]
     },
     "execution_count": 37,
     "metadata": {},
     "output_type": "execute_result"
    }
   ],
   "source": [
    "soup.find_all(\"div\", class_=\"grid-sm-14 offset-lg-1 grid-xs-24 grid-lg-13\")\n",
    "\n",
    "\n",
    "\n"
   ]
  },
  {
   "cell_type": "code",
   "execution_count": null,
   "metadata": {},
   "outputs": [],
   "source": []
  },
  {
   "cell_type": "code",
   "execution_count": 21,
   "metadata": {},
   "outputs": [
    {
     "data": {
      "text/plain": [
       "['Unidades de programación']"
      ]
     },
     "execution_count": 21,
     "metadata": {},
     "output_type": "execute_result"
    }
   ],
   "source": [
    "import re\n",
    "\n",
    "section = soup(text=re.compile('Unidades de programación'))\n",
    "section"
   ]
  },
  {
   "cell_type": "code",
   "execution_count": 25,
   "metadata": {},
   "outputs": [
    {
     "name": "stdout",
     "output_type": "stream",
     "text": [
      "mailto:soportesios@ree.es?subject=Consulta desde la Web Publica\n"
     ]
    }
   ],
   "source": [
    "import requests\n",
    "from bs4 import BeautifulSoup\n",
    " \n",
    " \n",
    "url = 'https://www.esios.ree.es/es/mercados-y-precios'\n",
    "reqs = requests.get(url)\n",
    "soup = BeautifulSoup(reqs.text, 'html.parser')\n",
    " \n",
    "urls = []\n",
    "for link in soup.find_all('a'):\n",
    "    print(link.get('href'))"
   ]
  },
  {
   "cell_type": "code",
   "execution_count": 27,
   "metadata": {},
   "outputs": [],
   "source": [
    "import re\n",
    "import json\n",
    "import requests\n",
    "from bs4 import BeautifulSoup\n",
    "\n",
    "URL = \"https://www.esios.ree.es/es/mercados-y-precios\"\n",
    "soup = BeautifulSoup(requests.get(URL).content, \"html.parser\")"
   ]
  },
  {
   "cell_type": "code",
   "execution_count": 44,
   "metadata": {},
   "outputs": [
    {
     "name": "stdout",
     "output_type": "stream",
     "text": [
      "[]\n"
     ]
    }
   ],
   "source": [
    "response = requests.get(URL)\n",
    "\n",
    "soup = BeautifulSoup(response.content)\n",
    "print([a.text for a in soup.select('value is-medium-number')])"
   ]
  },
  {
   "cell_type": "code",
   "execution_count": null,
   "metadata": {},
   "outputs": [],
   "source": [
    "class=\"value is-medium-number\""
   ]
  }
 ],
 "metadata": {
  "kernelspec": {
   "display_name": "Python 3 (ipykernel)",
   "language": "python",
   "name": "python3"
  },
  "language_info": {
   "codemirror_mode": {
    "name": "ipython",
    "version": 3
   },
   "file_extension": ".py",
   "mimetype": "text/x-python",
   "name": "python",
   "nbconvert_exporter": "python",
   "pygments_lexer": "ipython3",
   "version": "3.9.13"
  }
 },
 "nbformat": 4,
 "nbformat_minor": 4
}
