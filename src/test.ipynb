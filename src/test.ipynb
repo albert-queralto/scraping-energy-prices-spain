{
 "cells": [
  {
   "cell_type": "code",
   "execution_count": 4,
   "metadata": {},
   "outputs": [],
   "source": [
    "import os\n",
    "import sys\n",
    "import datetime\n",
    "import re\n",
    "import pandas as pd\n",
    "\n",
    "# Create list with all files in the save directory\n",
    "path = \"/home/albert/Desktop/Tipologia i cicle de vida de les dades/PRA1/\"\n",
    "full_path = os.path.join(path, 'data')\n",
    "files = os.listdir(full_path)\n",
    "\n",
    "for file in files:\n",
    "    if file.endswith('.csv') and \"renewable_generation\" in file:\n",
    "        energy_prices = pd.read_csv(os.path.join(full_path, f\"{file}\"), sep=\",\")"
   ]
  },
  {
   "cell_type": "code",
   "execution_count": 20,
   "metadata": {},
   "outputs": [],
   "source": [
    "energy_prices_dict = {\n",
    "    'date': [], 'hour': [], 'avg total price (euro/MWh)': [], 'avg price free market (euro/MWh)': [], 'avg price reference market (euro/MWh)': [], \n",
    "    'energy total (MWh)': [], 'energy free market (MWh)': [], 'energy reference market (MWh)': [], 'free market share (%)': [], 'reference market share (%)': [],\n",
    "    'renewable generation (%)': [], 'energy_source': [], 'renewable generation (MW)': []}\n",
    "\n",
    "energy_prices_cols = ['date', 'hour', 'avg total price (euro/MWh)', 'avg price free market (euro/MWh)', \n",
    "                        'avg price reference market (euro/MWh)', 'energy total (MWh)', 'energy free market (MWh)', \n",
    "                        'energy reference market (MWh)', 'free market share (%)', 'reference market share (%)', \n",
    "                        'renewable generation (%)']\n",
    "\n",
    "for idx, row in energy_prices.iterrows():\n",
    "    for col in energy_prices.columns:\n",
    "        if col in ['renewable generation (MW)','wind generation (MW)', 'water generation (MW)', \n",
    "                    'solar generation (MW)', 'nuclear generation (MW)', 'thermorenewable generation (MW)']:\n",
    "            for energy_col in energy_prices_cols:\n",
    "                energy_prices_dict[energy_col].append(row[energy_col])\n",
    "            energy_prices_dict['energy_source'].append(col)\n",
    "            energy_prices_dict['renewable generation (MW)'].append(row[col])\n",
    "\n",
    "energy_prices_dict_df = pd.DataFrame(energy_prices_dict)"
   ]
  },
  {
   "cell_type": "code",
   "execution_count": 22,
   "metadata": {},
   "outputs": [],
   "source": [
    "# save df to csv\n",
    "energy_prices_dict_df.to_csv(os.path.join(full_path, \"test.csv\"), index=False)"
   ]
  },
  {
   "cell_type": "code",
   "execution_count": 19,
   "metadata": {},
   "outputs": [
    {
     "name": "stdout",
     "output_type": "stream",
     "text": [
      "date: 144\n",
      "hour: 144\n",
      "avg total price (euro/MWh): 144\n",
      "avg price free market (euro/MWh): 144\n",
      "avg price reference market (euro/MWh): 144\n",
      "energy total (MWh): 144\n",
      "energy free market (MWh): 144\n",
      "energy reference market (MWh): 144\n",
      "free market share (%): 144\n",
      "reference market share (%): 144\n",
      "renewable generation (%): 144\n",
      "energy_source: 144\n",
      "renewable generation (MW): 144\n"
     ]
    }
   ],
   "source": [
    "# Print the length of the different keys\n",
    "for key in energy_prices_dict.keys():\n",
    "    print(f\"{key}: {len(energy_prices_dict[key])}\")"
   ]
  },
  {
   "cell_type": "code",
   "execution_count": null,
   "metadata": {},
   "outputs": [],
   "source": []
  }
 ],
 "metadata": {
  "kernelspec": {
   "display_name": "Python 3.9.13 ('datasci')",
   "language": "python",
   "name": "python3"
  },
  "language_info": {
   "codemirror_mode": {
    "name": "ipython",
    "version": 3
   },
   "file_extension": ".py",
   "mimetype": "text/x-python",
   "name": "python",
   "nbconvert_exporter": "python",
   "pygments_lexer": "ipython3",
   "version": "3.9.13"
  },
  "orig_nbformat": 4,
  "vscode": {
   "interpreter": {
    "hash": "01b5729335eabb57f7ae0e37feeff44791d25fca54f108c100e0360b7469a4c6"
   }
  }
 },
 "nbformat": 4,
 "nbformat_minor": 2
}
