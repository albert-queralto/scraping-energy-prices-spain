{
 "cells": [
  {
   "cell_type": "code",
   "execution_count": 28,
   "metadata": {},
   "outputs": [],
   "source": [
    "import unittest\n",
    "import random\n",
    "import time\n",
    "import datetime\n",
    "import pandas as pd\n",
    "\n",
    "# Webscraping libraries\n",
    "import requests\n",
    "from selenium.webdriver import Chrome\n",
    "from selenium.webdriver.chrome.service import Service as ChromeService\n",
    "from webdriver_manager.chrome import ChromeDriverManager\n",
    "from selenium.webdriver.chrome.options import Options\n",
    "\n",
    "# Custom libraries\n",
    "from navigation import *\n",
    "from webdriver_utils import *\n",
    "from support_functions import *"
   ]
  },
  {
   "cell_type": "code",
   "execution_count": 29,
   "metadata": {},
   "outputs": [],
   "source": [
    "# Checking robots.txt file of our chosen website\n",
    "# Function get_robot_txt is constructed to check any url\n",
    "def get_robot_txt(url):\n",
    "    if url.endswith('/'):\n",
    "        path = url\n",
    "    else:\n",
    "        path = url + '/'\n",
    "    req = requests.get(path + \"robots.txt\",data =None)\n",
    "    return req.text\n",
    "\n",
    "# Objective website\n",
    "URL = \"https://www.esios.ree.es/es\"\n",
    "\n",
    "# Read robots.txt file\n",
    "# Print(get_robot_txt(URL))"
   ]
  },
  {
   "cell_type": "code",
   "execution_count": 30,
   "metadata": {},
   "outputs": [],
   "source": [
    "\"\"\"\n",
    "Method that includes all the elements that the test each test requires for execution.\n",
    "Similar to the __init__ method.\n",
    "\"\"\"\n",
    "options = Options() # Define custom options for the WebDriver\n",
    "options.headless = False # Option to show the browser window (True) or not (False)\n",
    "options.add_argument(f'user-agent={random.choice(WebDriverOptions.user_agents)}') # Setup a custom User-Agent to prevent detection\n",
    "options.add_argument(\"content-type=application/x-www-form-urlencoded\") # Setup content-type\n",
    "\n",
    "    # Initiate the webdriver, installs it if not present and implements the previous options\n",
    "driver = Chrome(service=ChromeService(ChromeDriverManager().install()), options=options)\n",
    "driver.set_page_load_timeout(30)\n",
    "base_url = 'https://www.esios.ree.es/es' # Base URL that we want to scrape"
   ]
  },
  {
   "cell_type": "code",
   "execution_count": 31,
   "metadata": {},
   "outputs": [],
   "source": [
    "\"\"\"\n",
    "Method that includes all the elements that the test each test requires for execution.\n",
    "Similar to the __init__ method.\n",
    "\"\"\"\n",
    "options = Options() # Define custom options for the WebDriver\n",
    "options.headless = False # Option to show the browser window (True) or not (False)\n",
    "options.add_argument(f'user-agent={random.choice(WebDriverOptions.user_agents)}') # Setup a custom User-Agent to prevent detection\n",
    "options.add_argument(\"content-type=application/x-www-form-urlencoded\") # Setup content-type"
   ]
  },
  {
   "cell_type": "code",
   "execution_count": 32,
   "metadata": {},
   "outputs": [],
   "source": [
    "# Initiate the webdriver, installs it if not present and implements the previous options\n",
    "\n",
    "driver = Chrome(service=ChromeService(ChromeDriverManager().install()), options=options)\n",
    "driver.set_page_load_timeout(30)\n",
    "base_url = 'https://www.esios.ree.es/es' # Base URL that we want to scrape"
   ]
  },
  {
   "cell_type": "code",
   "execution_count": 33,
   "metadata": {},
   "outputs": [],
   "source": [
    "# Set days before the actual day to scrape and create a list of dates and transform them to tuples\n",
    "num_previous_days = 2\n",
    "date_range = [datetime.datetime.today() - datetime.timedelta(days=day) for day in range(num_previous_days)]\n",
    "date_range = [(date.year, date.month, date.day) for date in reversed(date_range)]"
   ]
  },
  {
   "cell_type": "code",
   "execution_count": 34,
   "metadata": {},
   "outputs": [
    {
     "name": "stdout",
     "output_type": "stream",
     "text": [
      "https://www.esios.ree.es/es\n"
     ]
    }
   ],
   "source": [
    "# Initiate the navigation elements for the first page and open the Chrome session\n",
    "page_navigator = NavigationMain(driver=driver, base_url=base_url)\n",
    "page_navigator.open_chrome_session()\n",
    "time.sleep(1)"
   ]
  },
  {
   "cell_type": "code",
   "execution_count": 35,
   "metadata": {},
   "outputs": [],
   "source": [
    "# Go to the *Generación y consumo* page\n",
    "page_navigator.navigate_generacion_consumo()\n",
    "time.sleep(1)"
   ]
  },
  {
   "cell_type": "code",
   "execution_count": 36,
   "metadata": {},
   "outputs": [],
   "source": [
    "# Initiate the method to perform the hour selection in the *Generación y consumo* page\n",
    "generacion_consumo_navigator =  NavigationGeneracionConsumo(driver=driver)"
   ]
  },
  {
   "cell_type": "code",
   "execution_count": 37,
   "metadata": {},
   "outputs": [],
   "source": [
    "# Create list with all files in the save directory\n",
    "files = os.listdir('data')        "
   ]
  },
  {
   "cell_type": "code",
   "execution_count": 38,
   "metadata": {},
   "outputs": [],
   "source": [
    "# Navigates through the defined date range\n",
    "for year, month, day in date_range:\n",
    "    date = f\"{day}-{month}-{year}\" # Create the date variable"
   ]
  },
  {
   "cell_type": "code",
   "execution_count": 39,
   "metadata": {},
   "outputs": [],
   "source": [
    "# Check if day, month and year are in the file name and load the file\n",
    "file = [file for file in files if date in file]\n",
    "# energy_prices = pd.read_csv(f\"data/{file[0]}\", sep=\";\")"
   ]
  },
  {
   "cell_type": "code",
   "execution_count": 40,
   "metadata": {},
   "outputs": [
    {
     "name": "stdout",
     "output_type": "stream",
     "text": [
      "https://www.esios.ree.es/es/generacion-y-consumo?date=2-11-2022\n"
     ]
    }
   ],
   "source": [
    "# Initiate method to get the data from the *Generación y consumo* page\n",
    "generacion_consumo_navigator.date_navigator(year=year, month=month, day=day)\n",
    "time.sleep(5)\n",
    "print(driver.current_url) # For debugging"
   ]
  },
  {
   "cell_type": "code",
   "execution_count": 41,
   "metadata": {},
   "outputs": [
    {
     "name": "stdout",
     "output_type": "stream",
     "text": [
      "00\n",
      "00\n",
      "01\n",
      "01\n",
      "Message: stale element reference: element is not attached to the page document\n",
      "  (Session info: chrome=107.0.5304.87)\n",
      "Stacktrace:\n",
      "0   chromedriver                        0x00000001044762c8 chromedriver + 4752072\n",
      "1   chromedriver                        0x00000001043f6463 chromedriver + 4228195\n",
      "2   chromedriver                        0x0000000104059b18 chromedriver + 441112\n",
      "3   chromedriver                        0x000000010405d0d7 chromedriver + 454871\n",
      "4   chromedriver                        0x000000010405cf50 chromedriver + 454480\n",
      "5   chromedriver                        0x000000010405dc8e chromedriver + 457870\n",
      "6   chromedriver                        0x00000001040d0d9a chromedriver + 929178\n",
      "7   chromedriver                        0x00000001040b7d02 chromedriver + 826626\n",
      "8   chromedriver                        0x00000001040d0134 chromedriver + 926004\n",
      "9   chromedriver                        0x00000001040b7b33 chromedriver + 826163\n",
      "10  chromedriver                        0x00000001040889fd chromedriver + 633341\n",
      "11  chromedriver                        0x000000010408a051 chromedriver + 639057\n",
      "12  chromedriver                        0x000000010444330e chromedriver + 4543246\n",
      "13  chromedriver                        0x0000000104447a88 chromedriver + 4561544\n",
      "14  chromedriver                        0x000000010444f6df chromedriver + 4593375\n",
      "15  chromedriver                        0x00000001044488fa chromedriver + 4565242\n",
      "16  chromedriver                        0x000000010441e2cf chromedriver + 4391631\n",
      "17  chromedriver                        0x00000001044675b8 chromedriver + 4691384\n",
      "18  chromedriver                        0x0000000104467739 chromedriver + 4691769\n",
      "19  chromedriver                        0x000000010447d81e chromedriver + 4782110\n",
      "20  libsystem_pthread.dylib             0x00007ff8183cb259 _pthread_start + 125\n",
      "21  libsystem_pthread.dylib             0x00007ff8183c6c7b thread_start + 15\n",
      "\n"
     ]
    },
    {
     "ename": "KeyboardInterrupt",
     "evalue": "",
     "output_type": "error",
     "traceback": [
      "\u001b[0;31m---------------------------------------------------------------------------\u001b[0m",
      "\u001b[0;31mStaleElementReferenceException\u001b[0m            Traceback (most recent call last)",
      "File \u001b[0;32m~/git-box/scraping-energy-prices-spain/src/navigation.py:366\u001b[0m, in \u001b[0;36mNavigationGeneracionConsumo.hour_selection_generacion_libre_co2\u001b[0;34m(self, list_index)\u001b[0m\n\u001b[1;32m    365\u001b[0m \u001b[39m# Ensure that the right hour has been selected. Otherwise, perform the search again and click the found element\u001b[39;00m\n\u001b[0;32m--> 366\u001b[0m \u001b[39mif\u001b[39;00m selected_hour\u001b[39m.\u001b[39msplit(\u001b[39m'\u001b[39m\u001b[39m:\u001b[39m\u001b[39m'\u001b[39m)[\u001b[39m0\u001b[39m] \u001b[39m!=\u001b[39m li_elements\u001b[39m.\u001b[39;49mget_attribute(\u001b[39m\"\u001b[39;49m\u001b[39mtextContent\u001b[39;49m\u001b[39m\"\u001b[39;49m):\n\u001b[1;32m    367\u001b[0m     \u001b[39mprint\u001b[39m(\u001b[39mf\u001b[39m\u001b[39m'\u001b[39m\u001b[39mSelected hour (\u001b[39m\u001b[39m{\u001b[39;00mselected_hour\u001b[39m}\u001b[39;00m\u001b[39m) is different than the expected value (\u001b[39m\u001b[39m{\u001b[39;00mli_elements\u001b[39m.\u001b[39mget_attribute(\u001b[39m\"\u001b[39m\u001b[39mtextContent\u001b[39m\u001b[39m\"\u001b[39m)\u001b[39m}\u001b[39;00m\u001b[39m. \u001b[39m\u001b[39m\\n\u001b[39;00m\u001b[39mRetrying to perform selection.\u001b[39m\u001b[39m'\u001b[39m)\n",
      "File \u001b[0;32m~/Library/Python/3.9/lib/python/site-packages/selenium/webdriver/remote/webelement.py:172\u001b[0m, in \u001b[0;36mWebElement.get_attribute\u001b[0;34m(self, name)\u001b[0m\n\u001b[1;32m    171\u001b[0m     _load_js()\n\u001b[0;32m--> 172\u001b[0m attribute_value \u001b[39m=\u001b[39m \u001b[39mself\u001b[39;49m\u001b[39m.\u001b[39;49mparent\u001b[39m.\u001b[39;49mexecute_script(\n\u001b[1;32m    173\u001b[0m     \u001b[39m\"\u001b[39;49m\u001b[39mreturn (\u001b[39;49m\u001b[39m%s\u001b[39;49;00m\u001b[39m).apply(null, arguments);\u001b[39;49m\u001b[39m\"\u001b[39;49m \u001b[39m%\u001b[39;49m getAttribute_js,\n\u001b[1;32m    174\u001b[0m     \u001b[39mself\u001b[39;49m, name)\n\u001b[1;32m    175\u001b[0m \u001b[39mreturn\u001b[39;00m attribute_value\n",
      "File \u001b[0;32m~/Library/Python/3.9/lib/python/site-packages/selenium/webdriver/remote/webdriver.py:492\u001b[0m, in \u001b[0;36mWebDriver.execute_script\u001b[0;34m(self, script, *args)\u001b[0m\n\u001b[1;32m    490\u001b[0m command \u001b[39m=\u001b[39m Command\u001b[39m.\u001b[39mW3C_EXECUTE_SCRIPT\n\u001b[0;32m--> 492\u001b[0m \u001b[39mreturn\u001b[39;00m \u001b[39mself\u001b[39;49m\u001b[39m.\u001b[39;49mexecute(command, {\n\u001b[1;32m    493\u001b[0m     \u001b[39m'\u001b[39;49m\u001b[39mscript\u001b[39;49m\u001b[39m'\u001b[39;49m: script,\n\u001b[1;32m    494\u001b[0m     \u001b[39m'\u001b[39;49m\u001b[39margs\u001b[39;49m\u001b[39m'\u001b[39;49m: converted_args})[\u001b[39m'\u001b[39m\u001b[39mvalue\u001b[39m\u001b[39m'\u001b[39m]\n",
      "File \u001b[0;32m~/Library/Python/3.9/lib/python/site-packages/selenium/webdriver/remote/webdriver.py:429\u001b[0m, in \u001b[0;36mWebDriver.execute\u001b[0;34m(self, driver_command, params)\u001b[0m\n\u001b[1;32m    428\u001b[0m \u001b[39mif\u001b[39;00m response:\n\u001b[0;32m--> 429\u001b[0m     \u001b[39mself\u001b[39;49m\u001b[39m.\u001b[39;49merror_handler\u001b[39m.\u001b[39;49mcheck_response(response)\n\u001b[1;32m    430\u001b[0m     response[\u001b[39m'\u001b[39m\u001b[39mvalue\u001b[39m\u001b[39m'\u001b[39m] \u001b[39m=\u001b[39m \u001b[39mself\u001b[39m\u001b[39m.\u001b[39m_unwrap_value(\n\u001b[1;32m    431\u001b[0m         response\u001b[39m.\u001b[39mget(\u001b[39m'\u001b[39m\u001b[39mvalue\u001b[39m\u001b[39m'\u001b[39m, \u001b[39mNone\u001b[39;00m))\n",
      "File \u001b[0;32m~/Library/Python/3.9/lib/python/site-packages/selenium/webdriver/remote/errorhandler.py:243\u001b[0m, in \u001b[0;36mErrorHandler.check_response\u001b[0;34m(self, response)\u001b[0m\n\u001b[1;32m    242\u001b[0m     \u001b[39mraise\u001b[39;00m exception_class(message, screen, stacktrace, alert_text)  \u001b[39m# type: ignore[call-arg]  # mypy is not smart enough here\u001b[39;00m\n\u001b[0;32m--> 243\u001b[0m \u001b[39mraise\u001b[39;00m exception_class(message, screen, stacktrace)\n",
      "\u001b[0;31mStaleElementReferenceException\u001b[0m: Message: stale element reference: element is not attached to the page document\n  (Session info: chrome=107.0.5304.87)\nStacktrace:\n0   chromedriver                        0x00000001044762c8 chromedriver + 4752072\n1   chromedriver                        0x00000001043f6463 chromedriver + 4228195\n2   chromedriver                        0x0000000104059b18 chromedriver + 441112\n3   chromedriver                        0x000000010405d0d7 chromedriver + 454871\n4   chromedriver                        0x000000010405cf50 chromedriver + 454480\n5   chromedriver                        0x000000010405dc8e chromedriver + 457870\n6   chromedriver                        0x00000001040d0d9a chromedriver + 929178\n7   chromedriver                        0x00000001040b7d02 chromedriver + 826626\n8   chromedriver                        0x00000001040d0134 chromedriver + 926004\n9   chromedriver                        0x00000001040b7b33 chromedriver + 826163\n10  chromedriver                        0x00000001040889fd chromedriver + 633341\n11  chromedriver                        0x000000010408a051 chromedriver + 639057\n12  chromedriver                        0x000000010444330e chromedriver + 4543246\n13  chromedriver                        0x0000000104447a88 chromedriver + 4561544\n14  chromedriver                        0x000000010444f6df chromedriver + 4593375\n15  chromedriver                        0x00000001044488fa chromedriver + 4565242\n16  chromedriver                        0x000000010441e2cf chromedriver + 4391631\n17  chromedriver                        0x00000001044675b8 chromedriver + 4691384\n18  chromedriver                        0x0000000104467739 chromedriver + 4691769\n19  chromedriver                        0x000000010447d81e chromedriver + 4782110\n20  libsystem_pthread.dylib             0x00007ff8183cb259 _pthread_start + 125\n21  libsystem_pthread.dylib             0x00007ff8183c6c7b thread_start + 15\n",
      "\nDuring handling of the above exception, another exception occurred:\n",
      "\u001b[0;31mKeyboardInterrupt\u001b[0m                         Traceback (most recent call last)",
      "Cell \u001b[0;32mIn [41], line 2\u001b[0m\n\u001b[1;32m      1\u001b[0m renewable_data_iterator \u001b[39m=\u001b[39m WrapperFunctionsGeneracionConsumo(date\u001b[39m=\u001b[39mdate, max_hour\u001b[39m=\u001b[39m\u001b[39m2\u001b[39m, generacion_consumo_nav\u001b[39m=\u001b[39mgeneracion_consumo_navigator, driver\u001b[39m=\u001b[39mdriver)\n\u001b[0;32m----> 2\u001b[0m renewable_data_df \u001b[39m=\u001b[39m renewable_data_iterator\u001b[39m.\u001b[39;49mhour_iterator_generacion_libre_co2()\n\u001b[1;32m      4\u001b[0m energy_prices \u001b[39m=\u001b[39m pd\u001b[39m.\u001b[39mmerge(energy_prices, renewable_data_df, on\u001b[39m=\u001b[39m[\u001b[39m'\u001b[39m\u001b[39mdate\u001b[39m\u001b[39m'\u001b[39m, \u001b[39m'\u001b[39m\u001b[39mhour\u001b[39m\u001b[39m'\u001b[39m])\n",
      "File \u001b[0;32m~/git-box/scraping-energy-prices-spain/src/support_functions.py:137\u001b[0m, in \u001b[0;36mWrapperFunctionsGeneracionConsumo.hour_iterator_generacion_libre_co2\u001b[0;34m(self)\u001b[0m\n\u001b[1;32m    135\u001b[0m \u001b[39m# Iterate through the hour elements and select the right hour from the drop down menu list\u001b[39;00m\n\u001b[1;32m    136\u001b[0m \u001b[39mfor\u001b[39;00m i \u001b[39min\u001b[39;00m \u001b[39mrange\u001b[39m(\u001b[39mself\u001b[39m\u001b[39m.\u001b[39mmax_hour):\n\u001b[0;32m--> 137\u001b[0m     \u001b[39mself\u001b[39;49m\u001b[39m.\u001b[39;49mgeneracion_consumo_nav\u001b[39m.\u001b[39;49mhour_selection_generacion_libre_co2(list_index\u001b[39m=\u001b[39;49mi)                \n\u001b[1;32m    138\u001b[0m     generacion_consumo \u001b[39m=\u001b[39m GeneracionConsumoData(driver\u001b[39m=\u001b[39m\u001b[39mself\u001b[39m\u001b[39m.\u001b[39mdriver)\n\u001b[1;32m    139\u001b[0m     time\u001b[39m.\u001b[39msleep(\u001b[39m5\u001b[39m)\n",
      "File \u001b[0;32m~/git-box/scraping-energy-prices-spain/src/navigation.py:382\u001b[0m, in \u001b[0;36mNavigationGeneracionConsumo.hour_selection_generacion_libre_co2\u001b[0;34m(self, list_index)\u001b[0m\n\u001b[1;32m    380\u001b[0m \u001b[39mexcept\u001b[39;00m StaleElementReferenceException \u001b[39mas\u001b[39;00m stale_element:\n\u001b[1;32m    381\u001b[0m     \u001b[39mprint\u001b[39m(stale_element)\n\u001b[0;32m--> 382\u001b[0m     time\u001b[39m.\u001b[39;49msleep(\u001b[39m2\u001b[39;49m)\n\u001b[1;32m    383\u001b[0m     \u001b[39mreturn\u001b[39;00m \u001b[39mself\u001b[39m\u001b[39m.\u001b[39mhour_selection_generacion_libre_co2(list_index)\n\u001b[1;32m    384\u001b[0m \u001b[39m# Handle TimeoutException and run the function again\u001b[39;00m\n",
      "\u001b[0;31mKeyboardInterrupt\u001b[0m: "
     ]
    }
   ],
   "source": [
    "renewable_data_iterator = WrapperFunctionsGeneracionConsumo(date=date, max_hour=2, generacion_consumo_nav=generacion_consumo_navigator, driver=driver)\n",
    "renewable_data_df = renewable_data_iterator.hour_iterator_generacion_libre_co2()\n",
    "            \n",
    "energy_prices = pd.merge(energy_prices, renewable_data_df, on=['date', 'hour'])"
   ]
  },
  {
   "cell_type": "markdown",
   "metadata": {},
   "source": [
    "# Save the data to a CSV file for each day\n",
    "# renewable_data_df.to_csv(f\"data/energy_prices_renewable_generation_{date}.csv\", index=False) > n\n",
    "energy_prices.to_csv(f\"data/energy_prices_renewable_generation_{date}.csv\", index=False)"
   ]
  },
  {
   "cell_type": "code",
   "execution_count": null,
   "metadata": {},
   "outputs": [],
   "source": [
    "# Initiate the navigation elements for the first page and open the Chrome session\n",
    "page_navigator = NavigationMain(driver=self.driver, base_url=self.base_url)\n",
    "page_navigator.open_chrome_session()\n",
    "time.sleep(1)"
   ]
  },
  {
   "cell_type": "code",
   "execution_count": null,
   "metadata": {},
   "outputs": [],
   "source": [
    "# Go to the *Mercados y precios* page\n",
    "page_navigator.navigate_mercados_precios()\n",
    "time.sleep(1)"
   ]
  },
  {
   "cell_type": "code",
   "execution_count": null,
   "metadata": {},
   "outputs": [],
   "source": [
    "# Initiate the method to perform the hour selection in the *Mercados y precios* page\n",
    "mercado_precio_navigator =  NavigationMercadosPrecios(driver=self.driver)"
   ]
  },
  {
   "cell_type": "code",
   "execution_count": null,
   "metadata": {},
   "outputs": [],
   "source": [
    "# Navigates through the defined date range\n",
    "for year, month, day in self.date_range:\n",
    "    date = f\"{day}-{month}-{year}\" # Create the date variable"
   ]
  },
  {
   "cell_type": "code",
   "execution_count": null,
   "metadata": {},
   "outputs": [],
   "source": [
    "# Initiate method to get the data from the *Mercados y precios* page\n",
    "mercado_precio_navigator.date_navigator(year=year, month=month, day=day)\n",
    "time.sleep(5)\n",
    "print(self.driver.current_url) # For debugging"
   ]
  },
  {
   "cell_type": "code",
   "execution_count": null,
   "metadata": {},
   "outputs": [],
   "source": [
    "market_prices_data_iterator = WrapperFunctionsMercadoPrecios(date=date, max_hour=24, mercado_precio_nav=mercado_precio_navigator, driver=self.driver)\n",
    "market_price = market_prices_data_iterator.hour_iterator_mercado_precios()"
   ]
  },
  {
   "cell_type": "code",
   "execution_count": null,
   "metadata": {},
   "outputs": [],
   "source": [
    "# Save the data to a CSV file for each day\n",
    "data_saver = FileUtils(filename=f'energy_prices_{date}.csv', dictionary=market_price)\n",
    "data_saver.save_data()"
   ]
  },
  {
   "cell_type": "code",
   "execution_count": 33,
   "metadata": {},
   "outputs": [
    {
     "ename": "IndentationError",
     "evalue": "unindent does not match any outer indentation level (<tokenize>, line 6)",
     "output_type": "error",
     "traceback": [
      "\u001b[0;36m  File \u001b[0;32m<tokenize>:6\u001b[0;36m\u001b[0m\n\u001b[0;31m    if __name__ == '__main__':\u001b[0m\n\u001b[0m    ^\u001b[0m\n\u001b[0;31mIndentationError\u001b[0m\u001b[0;31m:\u001b[0m unindent does not match any outer indentation level\n"
     ]
    }
   ],
   "source": [
    "# Close and quit the driver\n",
    "driver.close() \n",
    "driver.quit() "
   ]
  },
  {
   "cell_type": "code",
   "execution_count": null,
   "metadata": {},
   "outputs": [],
   "source": [
    "if __name__ == '__main__':\n",
    "    unittest.main(warnings='ignore')"
   ]
  }
 ],
 "metadata": {
  "kernelspec": {
   "display_name": "Python 3.9.6 64-bit",
   "language": "python",
   "name": "python3"
  },
  "language_info": {
   "codemirror_mode": {
    "name": "ipython",
    "version": 3
   },
   "file_extension": ".py",
   "mimetype": "text/x-python",
   "name": "python",
   "nbconvert_exporter": "python",
   "pygments_lexer": "ipython3",
   "version": "3.9.6"
  },
  "orig_nbformat": 4,
  "vscode": {
   "interpreter": {
    "hash": "31f2aee4e71d21fbe5cf8b01ff0e069b9275f58929596ceb00d14d90e3e16cd6"
   }
  }
 },
 "nbformat": 4,
 "nbformat_minor": 2
}
